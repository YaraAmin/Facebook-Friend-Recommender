{
  "nbformat": 4,
  "nbformat_minor": 0,
  "metadata": {
    "colab": {
      "name": "collaborative filter.ipynb",
      "provenance": [],
      "collapsed_sections": [
        "_eGo82NighNO",
        "cH7RFFk8WNzB",
        "Qu5to8tEWwtB",
        "knE_Obxd_Ic0",
        "HlKSSqFvFd1K",
        "25IezSA_Hjgs",
        "P-JvLvqLF0_z",
        "2wjH5g2cGwD3",
        "nVDvF7VGG7Au",
        "_lqupZf0HZI9",
        "kJdNE0sqHn7H",
        "Xlymcr_KIZzb",
        "qpTZlhOxIkUi",
        "pqwmTuzVIy2V",
        "CgsyUi9gJHn-",
        "oDHIzZ0kJN2S",
        "r2_-L6wINFWc",
        "YNTroSqJNTAL"
      ],
      "machine_shape": "hm"
    },
    "kernelspec": {
      "name": "python3",
      "display_name": "Python 3"
    },
    "accelerator": "GPU"
  },
  "cells": [
    {
      "cell_type": "code",
      "metadata": {
        "id": "-zrSAlyq6WLD",
        "colab_type": "code",
        "outputId": "3d63da5c-63aa-4600-ad90-decc78700108",
        "colab": {
          "base_uri": "https://localhost:8080/",
          "height": 34
        }
      },
      "source": [
        "from google.colab import drive\n",
        "drive.mount('/content/drive')\n"
      ],
      "execution_count": 0,
      "outputs": [
        {
          "output_type": "stream",
          "text": [
            "Mounted at /content/drive\n"
          ],
          "name": "stdout"
        }
      ]
    },
    {
      "cell_type": "code",
      "metadata": {
        "id": "jz1chJSy6tDd",
        "colab_type": "code",
        "outputId": "cf3fe708-9dda-4732-e823-dc0cab5125b9",
        "colab": {
          "base_uri": "https://localhost:8080/",
          "height": 51
        }
      },
      "source": [
        "cd drive/My Drive"
      ],
      "execution_count": 0,
      "outputs": [
        {
          "output_type": "stream",
          "text": [
            "[Errno 2] No such file or directory: 'drive/My Drive'\n",
            "/content/drive/My Drive\n"
          ],
          "name": "stdout"
        }
      ]
    },
    {
      "cell_type": "markdown",
      "metadata": {
        "id": "_eGo82NighNO",
        "colab_type": "text"
      },
      "source": [
        "#importing libraries"
      ]
    },
    {
      "cell_type": "code",
      "metadata": {
        "id": "80kpVkGqUURP",
        "colab_type": "code",
        "colab": {}
      },
      "source": [
        "#Importing Libraries\n",
        "import warnings\n",
        "warnings.filterwarnings(\"ignore\")\n",
        "\n",
        "import csv\n",
        "import pandas as pd\n",
        "import datetime \n",
        "import time \n",
        "\n",
        "import numpy as np\n",
        "import matplotlib\n",
        "import matplotlib.pylab as plt\n",
        "import seaborn as sns\n",
        "from matplotlib import rcParams\n",
        "import math\n",
        "import os\n",
        "\n",
        "import warnings\n",
        "import networkx as nx\n",
        "import pdb\n",
        "import pickle\n",
        "\n",
        "from google.colab import files\n",
        "import random\n",
        "from sklearn.model_selection import train_test_split\n",
        "from scipy.sparse.linalg import svds, eigs\n",
        "from tqdm import tqdm\n",
        "from pandas import HDFStore,DataFrame\n",
        "from pandas import read_hdf\n",
        "\n",
        "from scipy.stats import randint as sp_randint\n",
        "from scipy.stats import uniform\n",
        "from sklearn.model_selection import RandomizedSearchCV\n",
        "from sklearn.ensemble import RandomForestClassifier\n",
        "from sklearn.metrics import confusion_matrix\n",
        "from sklearn.metrics import f1_score,roc_curve, auc"
      ],
      "execution_count": 0,
      "outputs": []
    },
    {
      "cell_type": "markdown",
      "metadata": {
        "id": "13sSMB-RL4sz",
        "colab_type": "text"
      },
      "source": [
        "#Get dataset from kaggle API"
      ]
    },
    {
      "cell_type": "code",
      "metadata": {
        "id": "0gCrUexy7UKJ",
        "colab_type": "code",
        "outputId": "982a0bc9-4a4a-43d5-a5da-437e187ddd84",
        "colab": {
          "resources": {
            "http://localhost:8080/nbextensions/google.colab/files.js": {
              "data": "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",
              "ok": true,
              "headers": [
                [
                  "content-type",
                  "application/javascript"
                ]
              ],
              "status": 200,
              "status_text": ""
            }
          },
          "base_uri": "https://localhost:8080/",
          "height": 91
        }
      },
      "source": [
        "files.upload()\n",
        "\n"
      ],
      "execution_count": 0,
      "outputs": [
        {
          "output_type": "display_data",
          "data": {
            "text/html": [
              "\n",
              "     <input type=\"file\" id=\"files-7a2bcde7-712b-4a82-9564-738edc5ba9b9\" name=\"files[]\" multiple disabled />\n",
              "     <output id=\"result-7a2bcde7-712b-4a82-9564-738edc5ba9b9\">\n",
              "      Upload widget is only available when the cell has been executed in the\n",
              "      current browser session. Please rerun this cell to enable.\n",
              "      </output>\n",
              "      <script src=\"/nbextensions/google.colab/files.js\"></script> "
            ],
            "text/plain": [
              "<IPython.core.display.HTML object>"
            ]
          },
          "metadata": {
            "tags": []
          }
        },
        {
          "output_type": "stream",
          "text": [
            "Saving kaggle.json to kaggle.json\n"
          ],
          "name": "stdout"
        },
        {
          "output_type": "execute_result",
          "data": {
            "text/plain": [
              "{'kaggle.json': b'{\"username\":\"yaraamin\",\"key\":\"ffbfacd1e6355879ae48291b6bd80471\"}'}"
            ]
          },
          "metadata": {
            "tags": []
          },
          "execution_count": 8
        }
      ]
    },
    {
      "cell_type": "code",
      "metadata": {
        "id": "thtyCb9GIj-a",
        "colab_type": "code",
        "colab": {}
      },
      "source": [
        "!pip install -q kaggle"
      ],
      "execution_count": 0,
      "outputs": []
    },
    {
      "cell_type": "code",
      "metadata": {
        "id": "OSa8JfNWL2aP",
        "colab_type": "code",
        "colab": {}
      },
      "source": [
        "!mkdir -p ~/.kaggle"
      ],
      "execution_count": 0,
      "outputs": []
    },
    {
      "cell_type": "code",
      "metadata": {
        "id": "3tsOE41KMHJj",
        "colab_type": "code",
        "colab": {}
      },
      "source": [
        "!cp kaggle.json ~/.kaggle/\n",
        "\n"
      ],
      "execution_count": 0,
      "outputs": []
    },
    {
      "cell_type": "code",
      "metadata": {
        "id": "9y6X9_eZ9_IR",
        "colab_type": "code",
        "colab": {}
      },
      "source": [
        "#https://www.kaggle.com/c/FacebookRecruiting/data"
      ],
      "execution_count": 0,
      "outputs": []
    },
    {
      "cell_type": "code",
      "metadata": {
        "id": "FvKZs2RfMJnX",
        "colab_type": "code",
        "outputId": "a73d23d4-53c7-43ed-9619-0fd02de0d76d",
        "colab": {
          "base_uri": "https://localhost:8080/",
          "height": 391
        }
      },
      "source": [
        "!kaggle competitions download -c FacebookRecruiting\n",
        "\n"
      ],
      "execution_count": 0,
      "outputs": [
        {
          "output_type": "stream",
          "text": [
            "Warning: Looks like you're using an outdated API Version, please consider updating (server 1.5.6 / client 1.5.4)\n",
            "Downloading train.csv.zip to /content/drive/My Drive\n",
            " 92% 43.0M/46.7M [00:00<00:00, 46.5MB/s]\n",
            "100% 46.7M/46.7M [00:00<00:00, 78.3MB/s]\n",
            "Downloading train.gz to /content/drive/My Drive\n",
            " 58% 27.0M/46.7M [00:00<00:01, 19.7MB/s]\n",
            "100% 46.7M/46.7M [00:00<00:00, 79.6MB/s]\n",
            "Downloading test.csv.zip to /content/drive/My Drive\n",
            "  0% 0.00/619k [00:00<?, ?B/s]\n",
            "100% 619k/619k [00:00<00:00, 38.7MB/s]\n",
            "Downloading train.zip to /content/drive/My Drive\n",
            " 71% 33.0M/46.7M [00:00<00:00, 38.8MB/s]\n",
            "100% 46.7M/46.7M [00:00<00:00, 86.6MB/s]\n",
            "Downloading bfs_benchmark.csv.zip to /content/drive/My Drive\n",
            " 62% 5.00M/8.01M [00:00<00:00, 34.5MB/s]\n",
            "100% 8.01M/8.01M [00:00<00:00, 39.1MB/s]\n",
            "Downloading train.7z to /content/drive/My Drive\n",
            " 69% 22.0M/32.1M [00:00<00:00, 27.6MB/s]\n",
            "100% 32.1M/32.1M [00:01<00:00, 33.1MB/s]\n",
            "Downloading random_benchmark.csv.zip to /content/drive/My Drive\n",
            " 51% 5.00M/9.78M [00:00<00:00, 29.6MB/s]\n",
            "100% 9.78M/9.78M [00:00<00:00, 38.8MB/s]\n"
          ],
          "name": "stdout"
        }
      ]
    },
    {
      "cell_type": "markdown",
      "metadata": {
        "id": "cH7RFFk8WNzB",
        "colab_type": "text"
      },
      "source": [
        "#Data Visualization"
      ]
    },
    {
      "cell_type": "code",
      "metadata": {
        "id": "hZbzxjuVUB7_",
        "colab_type": "code",
        "outputId": "fff28e21-3eaf-4de5-8f17-ead468567e56",
        "colab": {
          "base_uri": "https://localhost:8080/",
          "height": 119
        }
      },
      "source": [
        "#unzip the csv files\n",
        "!unzip train.csv.zip\n",
        "!unzip test.csv.zip"
      ],
      "execution_count": 0,
      "outputs": [
        {
          "output_type": "stream",
          "text": [
            "Archive:  train.csv.zip\n",
            "replace train.csv? [y]es, [n]o, [A]ll, [N]one, [r]ename: y\n",
            "  inflating: train.csv               \n",
            "Archive:  test.csv.zip\n",
            "replace test.csv? [y]es, [n]o, [A]ll, [N]one, [r]ename: y\n",
            "  inflating: test.csv                \n"
          ],
          "name": "stdout"
        }
      ]
    },
    {
      "cell_type": "code",
      "metadata": {
        "id": "b5bnGwlqOBu8",
        "colab_type": "code",
        "outputId": "63cea291-b8ec-4f98-9a95-ac8d3613cc8f",
        "colab": {
          "base_uri": "https://localhost:8080/",
          "height": 459
        }
      },
      "source": [
        "#reading graph and delete the headers\n",
        "traincsv = pd.read_csv('train.csv')\n",
        "print(traincsv[traincsv.isna().any(1)])\n",
        "print(traincsv.info())\n",
        "print(\"Number of diplicate entries: \",sum(traincsv.duplicated()))\n",
        "traincsv.to_csv('train_woheader.csv',header=False,index=False)\n",
        "print(\"saved the graph into file\")\n",
        "    "
      ],
      "execution_count": 0,
      "outputs": [
        {
          "output_type": "stream",
          "text": [
            "Empty DataFrame\n",
            "Columns: [source_node, destination_node]\n",
            "Index: []\n",
            "<class 'pandas.core.frame.DataFrame'>\n",
            "RangeIndex: 9437519 entries, 0 to 9437518\n",
            "Data columns (total 2 columns):\n",
            "source_node         int64\n",
            "destination_node    int64\n",
            "dtypes: int64(2)\n",
            "memory usage: 144.0 MB\n",
            "None\n",
            "Number of diplicate entries:  0\n",
            "saved the graph into file\n",
            "Empty DataFrame\n",
            "Columns: [source_node, destination_node]\n",
            "Index: []\n",
            "<class 'pandas.core.frame.DataFrame'>\n",
            "RangeIndex: 9437519 entries, 0 to 9437518\n",
            "Data columns (total 2 columns):\n",
            "source_node         int64\n",
            "destination_node    int64\n",
            "dtypes: int64(2)\n",
            "memory usage: 144.0 MB\n",
            "None\n",
            "Number of diplicate entries:  0\n",
            "saved the graph into file\n"
          ],
          "name": "stdout"
        }
      ]
    },
    {
      "cell_type": "code",
      "metadata": {
        "id": "eNsrlmGMFhVb",
        "colab_type": "code",
        "outputId": "0d95d56b-0e9a-4878-e16d-b554b19869d9",
        "colab": {
          "base_uri": "https://localhost:8080/",
          "height": 136
        }
      },
      "source": [
        "traincsv.info()"
      ],
      "execution_count": 0,
      "outputs": [
        {
          "output_type": "stream",
          "text": [
            "<class 'pandas.core.frame.DataFrame'>\n",
            "RangeIndex: 9437519 entries, 0 to 9437518\n",
            "Data columns (total 2 columns):\n",
            "source_node         int64\n",
            "destination_node    int64\n",
            "dtypes: int64(2)\n",
            "memory usage: 144.0 MB\n"
          ],
          "name": "stdout"
        }
      ]
    },
    {
      "cell_type": "code",
      "metadata": {
        "id": "B7DmFzFZRxFq",
        "colab_type": "code",
        "outputId": "df55f5e3-cc70-4969-bf5c-f46f641bd735",
        "colab": {
          "base_uri": "https://localhost:8080/",
          "height": 34
        }
      },
      "source": [
        "#move to the directory of the data\n",
        "cd Kaggle"
      ],
      "execution_count": 0,
      "outputs": [
        {
          "output_type": "stream",
          "text": [
            "/content/drive/My Drive/Kaggle\n"
          ],
          "name": "stdout"
        }
      ]
    },
    {
      "cell_type": "code",
      "metadata": {
        "id": "lSZu81fDRbjw",
        "colab_type": "code",
        "outputId": "8af7d741-ef7f-47ee-a5b2-b8c3a83b2d4e",
        "colab": {
          "base_uri": "https://localhost:8080/",
          "height": 119
        }
      },
      "source": [
        "#get info of the network\n",
        "g=nx.read_edgelist('train_woheader.csv',delimiter=',',create_using=nx.DiGraph(),nodetype=int)\n",
        "print(nx.info(g))"
      ],
      "execution_count": 0,
      "outputs": [
        {
          "output_type": "stream",
          "text": [
            "Name: \n",
            "Type: DiGraph\n",
            "Number of nodes: 1862220\n",
            "Number of edges: 9437519\n",
            "Average in degree:   5.0679\n",
            "Average out degree:   5.0679\n"
          ],
          "name": "stdout"
        }
      ]
    },
    {
      "cell_type": "code",
      "metadata": {
        "id": "iG8vFr27Yuyn",
        "colab_type": "code",
        "outputId": "63d1d25f-957f-4614-e88e-fbbc57ddee2a",
        "colab": {
          "base_uri": "https://localhost:8080/",
          "height": 34
        }
      },
      "source": [
        "# Number of unique persons\n",
        "\n",
        "len(g.nodes())"
      ],
      "execution_count": 0,
      "outputs": [
        {
          "output_type": "execute_result",
          "data": {
            "text/plain": [
              "1862220"
            ]
          },
          "metadata": {
            "tags": []
          },
          "execution_count": 62
        }
      ]
    },
    {
      "cell_type": "markdown",
      "metadata": {
        "id": "y8RfkMhs-Q_5",
        "colab_type": "text"
      },
      "source": [
        "#Data preprocessing"
      ]
    },
    {
      "cell_type": "markdown",
      "metadata": {
        "id": "Qu5to8tEWwtB",
        "colab_type": "text"
      },
      "source": [
        "##Generate Bad links from graph which are not in graph and whose shortest path is greater than 2.\n"
      ]
    },
    {
      "cell_type": "code",
      "metadata": {
        "id": "4YfOX0BR-Y2f",
        "colab_type": "code",
        "outputId": "fc0b4828-cb28-44ef-d306-ffadb4aab728",
        "colab": {
          "base_uri": "https://localhost:8080/",
          "height": 34
        }
      },
      "source": [
        "\n",
        "r = csv.reader(open('train_woheader.csv','r'))\n",
        "edges = dict()\n",
        "for edge in r:\n",
        "    edges[(edge[0], edge[1])] = 1\n",
        "    \n",
        "        \n",
        "missing_edges = set([])\n",
        "while (len(missing_edges)<9437519):\n",
        "    a=random.randint(1, 1862220)\n",
        "    b=random.randint(1, 1862220)\n",
        "    tmp = edges.get((a,b),-1)\n",
        "    if tmp == -1 and a!=b:\n",
        "        try:\n",
        "            if nx.shortest_path_length(g,source=a,target=b) > 2: \n",
        "\n",
        "                missing_edges.add((a,b))\n",
        "            else:\n",
        "                continue  \n",
        "        except:  \n",
        "                missing_edges.add((a,b))              \n",
        "    else:\n",
        "        continue\n",
        "pickle.dump(missing_edges,open('missing_edges_final.p','wb'))"
      ],
      "execution_count": 0,
      "outputs": [
        {
          "output_type": "stream",
          "text": [
            "ERROR! Session/line number was not unique in database. History logging moved to new session 59\n"
          ],
          "name": "stdout"
        }
      ]
    },
    {
      "cell_type": "code",
      "metadata": {
        "id": "FMTbNLZzV_Uz",
        "colab_type": "code",
        "outputId": "4fcf7af0-4b25-495e-a466-3c6c290cec7b",
        "colab": {
          "base_uri": "https://localhost:8080/",
          "height": 34
        }
      },
      "source": [
        "missing_edges = pickle.load(open('missing_edges_final.p','rb'))\n",
        "len(missing_edges)"
      ],
      "execution_count": 0,
      "outputs": [
        {
          "output_type": "execute_result",
          "data": {
            "text/plain": [
              "9437519"
            ]
          },
          "metadata": {
            "tags": []
          },
          "execution_count": 63
        }
      ]
    },
    {
      "cell_type": "markdown",
      "metadata": {
        "id": "knE_Obxd_Ic0",
        "colab_type": "text"
      },
      "source": [
        "#Loading Data"
      ]
    },
    {
      "cell_type": "code",
      "metadata": {
        "id": "mKo0S3OG-9qL",
        "colab_type": "code",
        "colab": {}
      },
      "source": [
        "df_pos = pd.read_csv(r'train_woheader.csv')\n",
        "df_neg = pd.DataFrame(list(missing_edges), columns=['source_node', 'destination_node'])"
      ],
      "execution_count": 0,
      "outputs": []
    },
    {
      "cell_type": "markdown",
      "metadata": {
        "id": "fXH0mTGvxYJx",
        "colab_type": "text"
      },
      "source": [
        "# Split Dataset into train and test"
      ]
    },
    {
      "cell_type": "code",
      "metadata": {
        "id": "S9pT6R35w6pE",
        "colab_type": "code",
        "colab": {}
      },
      "source": [
        "X_train_pos, X_test_pos, y_train_pos, y_test_pos  = train_test_split(df_pos,np.ones(len(df_pos)),test_size=0.2, random_state=9)\n",
        "X_train_neg, X_test_neg, y_train_neg, y_test_neg  = train_test_split(df_neg,np.zeros(len(df_neg)),test_size=0.2, random_state=9)\n",
        "#save the splitted data into csv file\n",
        "X_train_pos.to_csv('train_pos_after_eda.csv',header=False, index=False)\n",
        "X_test_pos.to_csv('test_pos_after_eda.csv',header=False, index=False)\n",
        "X_train_neg.to_csv('train_neg_after_eda.csv',header=False, index=False)\n",
        "X_test_neg.to_csv('test_neg_after_eda.csv',header=False, index=False)"
      ],
      "execution_count": 0,
      "outputs": []
    },
    {
      "cell_type": "code",
      "metadata": {
        "id": "vCsMhMNHAk5z",
        "colab_type": "code",
        "outputId": "34d1674a-44fe-4c69-a128-406d83873883",
        "colab": {
          "base_uri": "https://localhost:8080/",
          "height": 153
        }
      },
      "source": [
        "#visualize the shape of the dataset\n",
        "print(\"Number of nodes in the graph with edges\", df_pos.shape[0])\n",
        "print(\"Number of nodes in the graph without edges\", df_neg.shape[0])\n",
        "    \n",
        "print('='*60)\n",
        "print(\"Number of nodes in the train data graph with edges\", X_train_pos.shape[0],\"=\",y_train_pos.shape[0])\n",
        "print(\"Number of nodes in the train data graph without edges\", X_train_neg.shape[0],\"=\", y_train_neg.shape[0])\n",
        "print('='*60)\n",
        "print(\"Number of nodes in the test data graph with edges\", X_test_pos.shape[0],\"=\",y_test_pos.shape[0])\n",
        "print(\"Number of nodes in the test data graph without edges\", X_test_neg.shape[0],\"=\",y_test_neg.shape[0])"
      ],
      "execution_count": 0,
      "outputs": [
        {
          "output_type": "stream",
          "text": [
            "Number of nodes in the graph with edges 9437518\n",
            "Number of nodes in the graph without edges 9437519\n",
            "============================================================\n",
            "Number of nodes in the train data graph with edges 7550014 = 7550014\n",
            "Number of nodes in the train data graph without edges 7550015 = 7550015\n",
            "============================================================\n",
            "Number of nodes in the test data graph with edges 1887504 = 1887504\n",
            "Number of nodes in the test data graph without edges 1887504 = 1887504\n"
          ],
          "name": "stdout"
        }
      ]
    },
    {
      "cell_type": "code",
      "metadata": {
        "id": "EDVfF-Uh_lpJ",
        "colab_type": "code",
        "colab": {}
      },
      "source": [
        "#read the csv files\n",
        "X_train_pos = pd.read_csv('train_pos_after_eda.csv', names=['source_node', 'destination_node'])\n",
        "X_test_pos = pd.read_csv('test_pos_after_eda.csv', names=['source_node', 'destination_node'])\n",
        "X_train_neg = pd.read_csv('train_neg_after_eda.csv', names=['source_node', 'destination_node'])\n",
        "X_test_neg = pd.read_csv('test_neg_after_eda.csv', names=['source_node', 'destination_node'])\n"
      ],
      "execution_count": 0,
      "outputs": []
    },
    {
      "cell_type": "code",
      "metadata": {
        "id": "3w_uYypv_mxg",
        "colab_type": "code",
        "colab": {}
      },
      "source": [
        "#create new data of the positive and negative ones for y\n",
        "y_train = np.concatenate((y_train_pos,y_train_neg))\n",
        "y_test = np.concatenate((y_test_pos,y_test_neg)) \n"
      ],
      "execution_count": 0,
      "outputs": []
    },
    {
      "cell_type": "code",
      "metadata": {
        "id": "CwvZssuP_qkh",
        "colab_type": "code",
        "colab": {}
      },
      "source": [
        "#create new data of the positive and negative ones for X\n",
        "X_train = X_train_pos.append(X_train_neg,ignore_index=True)\n",
        "X_test = X_test_pos.append(X_test_neg,ignore_index=True) "
      ],
      "execution_count": 0,
      "outputs": []
    },
    {
      "cell_type": "code",
      "metadata": {
        "id": "Q1AHVIgfRdpd",
        "colab_type": "code",
        "colab": {}
      },
      "source": [
        "#save data into csv files and retrieve it\n",
        "X_train.to_csv('train_after_eda.csv',header=False,index=False)\n",
        "X_test.to_csv('test_after_eda.csv',header=False,index=False)\n",
        "pd.DataFrame(y_train.astype(int)).to_csv('train_y.csv',header=False,index=False)\n",
        "pd.DataFrame(y_test.astype(int)).to_csv('test_y.csv',header=False,index=False)"
      ],
      "execution_count": 0,
      "outputs": []
    },
    {
      "cell_type": "code",
      "metadata": {
        "id": "YMu4aI8M520H",
        "colab_type": "code",
        "outputId": "fd9ee24f-5146-4cf1-f3b8-3c7c7367df84",
        "colab": {
          "base_uri": "https://localhost:8080/",
          "height": 34
        }
      },
      "source": [
        "#visualize the shape of the new data\n",
        "print(X_train.shape,y_train.shape,X_test.shape,y_test.shape)\n"
      ],
      "execution_count": 0,
      "outputs": [
        {
          "output_type": "stream",
          "text": [
            "(15100029, 2) (15100029,) (3775008, 2) (3775008,)\n"
          ],
          "name": "stdout"
        }
      ]
    },
    {
      "cell_type": "markdown",
      "metadata": {
        "id": "HlKSSqFvFd1K",
        "colab_type": "text"
      },
      "source": [
        "# Feature Extraction"
      ]
    },
    {
      "cell_type": "markdown",
      "metadata": {
        "id": "25IezSA_Hjgs",
        "colab_type": "text"
      },
      "source": [
        "##Read data"
      ]
    },
    {
      "cell_type": "code",
      "metadata": {
        "id": "I_nj3hcF6Tcr",
        "colab_type": "code",
        "outputId": "25d844ae-58e1-4b03-a4c8-7577a230a6d9",
        "colab": {
          "base_uri": "https://localhost:8080/",
          "height": 119
        }
      },
      "source": [
        "#read data after eda\n",
        "train_graph=nx.read_edgelist('train_pos_after_eda.csv',delimiter=',',create_using=nx.DiGraph(),nodetype=int)\n",
        "print(nx.info(train_graph))"
      ],
      "execution_count": 0,
      "outputs": [
        {
          "output_type": "stream",
          "text": [
            "Name: \n",
            "Type: DiGraph\n",
            "Number of nodes: 1780924\n",
            "Number of edges: 7550014\n",
            "Average in degree:   4.2394\n",
            "Average out degree:   4.2394\n"
          ],
          "name": "stdout"
        }
      ]
    },
    {
      "cell_type": "markdown",
      "metadata": {
        "id": "P-JvLvqLF0_z",
        "colab_type": "text"
      },
      "source": [
        "##Jaccard Distance"
      ]
    },
    {
      "cell_type": "code",
      "metadata": {
        "id": "0uwxHS_QFk8M",
        "colab_type": "code",
        "colab": {}
      },
      "source": [
        "#for followees\n",
        "def jaccard_for_followees(a,b):\n",
        "  try:\n",
        "      print(len(set(train_graph.successors(a))),len(set(train_graph.successors(b))))\n",
        "      if len(set(train_graph.successors(a))) == 0  | len(set(train_graph.successors(b))) == 0:\n",
        "          return 0\n",
        "      sim = (len(set(train_graph.successors(a)).intersection(set(train_graph.successors(b)))))/(len(set(train_graph.successors(a)).union(set(train_graph.successors(b)))))\n",
        "  except:\n",
        "      print(\"hi\")\n",
        "      return 0\n",
        "  print(sim)\n",
        "  return sim\n",
        "\n",
        "\n",
        "#for followers\n",
        "def jaccard_for_followers(a,b):\n",
        "    try:\n",
        "        if len(set(train_graph.predecessors(a))) == 0  | len(set(g.predecessors(b))) == 0:\n",
        "            return 0\n",
        "        sim = (len(set(train_graph.predecessors(a)).intersection(set(train_graph.predecessors(b)))))/(len(set(train_graph.predecessors(a)).union(set(train_graph.predecessors(b)))))\n",
        "        return sim\n",
        "    except:\n",
        "        return 0"
      ],
      "execution_count": 0,
      "outputs": []
    },
    {
      "cell_type": "markdown",
      "metadata": {
        "id": "2wjH5g2cGwD3",
        "colab_type": "text"
      },
      "source": [
        "##Cosine Similarity"
      ]
    },
    {
      "cell_type": "code",
      "metadata": {
        "id": "b_Fv2x6IF57y",
        "colab_type": "code",
        "colab": {}
      },
      "source": [
        "#for followees\n",
        "def cosine_for_followees(a,b):\n",
        "    try:\n",
        "        if len(set(train_graph.successors(a))) == 0  | len(set(train_graph.successors(b))) == 0:\n",
        "            return 0\n",
        "        sim = (len(set(train_graph.successors(a)).intersection(set(train_graph.successors(b)))))/\\\n",
        "                                    (math.sqrt(len(set(train_graph.successors(a)))*len((set(train_graph.successors(b))))))\n",
        "        return sim\n",
        "    except:\n",
        "        return 0\n",
        "#for followers\n",
        "def jaccard_for_followers(a,b):\n",
        "    try:\n",
        "        if len(set(train_graph.predecessors(a))) == 0  | len(set(g.predecessors(b))) == 0:\n",
        "            return 0\n",
        "        sim = (len(set(train_graph.predecessors(a)).intersection(set(train_graph.predecessors(b)))))/\\\n",
        "                                 (len(set(train_graph.predecessors(a)).union(set(train_graph.predecessors(b)))))\n",
        "        return sim\n",
        "    except:\n",
        "        return 0\n",
        "#for followees\n",
        "def cosine_for_followees(a,b):\n",
        "    try:\n",
        "        if len(set(train_graph.successors(a))) == 0  | len(set(train_graph.successors(b))) == 0:\n",
        "            return 0\n",
        "        sim = (len(set(train_graph.successors(a)).intersection(set(train_graph.successors(b)))))/\\\n",
        "                                    (math.sqrt(len(set(train_graph.successors(a)))*len((set(train_graph.successors(b))))))\n",
        "        return sim\n",
        "    except:\n",
        "        return 0\n",
        "#for followers\n",
        "\n",
        "def cosine_for_followers(a,b):\n",
        "    try:\n",
        "        \n",
        "        if len(set(train_graph.predecessors(a))) == 0  | len(set(train_graph.predecessors(b))) == 0:\n",
        "            return 0\n",
        "        sim = (len(set(train_graph.predecessors(a)).intersection(set(train_graph.predecessors(b)))))/\\\n",
        "                                     (math.sqrt(len(set(train_graph.predecessors(a))))*(len(set(train_graph.predecessors(b)))))\n",
        "        return sim\n",
        "    except:\n",
        "        return 0"
      ],
      "execution_count": 0,
      "outputs": []
    },
    {
      "cell_type": "markdown",
      "metadata": {
        "id": "nVDvF7VGG7Au",
        "colab_type": "text"
      },
      "source": [
        "##Page Rank"
      ]
    },
    {
      "cell_type": "code",
      "metadata": {
        "id": "BJFoRADpG6ap",
        "colab_type": "code",
        "colab": {}
      },
      "source": [
        "import pickle\n",
        "if not os.path.isfile(r'page_rank.p'):\n",
        "    pr = nx.pagerank(train_graph, alpha=0.85)\n",
        "    pickle.dump(pr,open(r'page_rank.p','wb'))\n",
        "else:\n",
        "    pr = pickle.load(open(r'page_rank.p','rb'))\n",
        "    \n",
        "mean_pr = float(sum(pr.values())) / len(pr)"
      ],
      "execution_count": 0,
      "outputs": []
    },
    {
      "cell_type": "markdown",
      "metadata": {
        "id": "_lqupZf0HZI9",
        "colab_type": "text"
      },
      "source": [
        "##Shortest Path"
      ]
    },
    {
      "cell_type": "code",
      "metadata": {
        "id": "upBYyJKiHWo1",
        "colab_type": "code",
        "colab": {}
      },
      "source": [
        "#if has direct edge then deleting that edge and calculating shortest path\n",
        "def compute_shortest_path_length(a,b):\n",
        "    p=-1\n",
        "    try:\n",
        "        if train_graph.has_edge(a,b):\n",
        "            train_graph.remove_edge(a,b)\n",
        "            p= nx.shortest_path_length(train_graph,source=a,target=b)\n",
        "            train_graph.add_edge(a,b)\n",
        "        else:\n",
        "            p= nx.shortest_path_length(train_graph,source=a,target=b)\n",
        "        return p\n",
        "    except:\n",
        "        return -1"
      ],
      "execution_count": 0,
      "outputs": []
    },
    {
      "cell_type": "markdown",
      "metadata": {
        "id": "kJdNE0sqHn7H",
        "colab_type": "text"
      },
      "source": [
        "##Connected Components"
      ]
    },
    {
      "cell_type": "code",
      "metadata": {
        "id": "OARNfbMHHtCY",
        "colab_type": "code",
        "colab": {}
      },
      "source": [
        "#getting weekly connected edges from graph \n",
        "wcc=list(nx.weakly_connected_components(train_graph))\n",
        "def belongs_to_same_wcc(a,b):\n",
        "    index = []\n",
        "    if train_graph.has_edge(b,a):\n",
        "        return 1\n",
        "    if train_graph.has_edge(a,b):\n",
        "            for i in wcc:\n",
        "                if a in i:\n",
        "                    index= i\n",
        "                    break\n",
        "            if (b in index):\n",
        "                train_graph.remove_edge(a,b)\n",
        "                if compute_shortest_path_length(a,b)==-1:\n",
        "                    train_graph.add_edge(a,b)\n",
        "                    return 0\n",
        "                else:\n",
        "                    train_graph.add_edge(a,b)\n",
        "                    return 1\n",
        "            else:\n",
        "                return 0\n",
        "    else:\n",
        "            for i in wcc:\n",
        "                if a in i:\n",
        "                    index= i\n",
        "                    break\n",
        "            if(b in index):\n",
        "                return 1\n",
        "            else:\n",
        "                return 0"
      ],
      "execution_count": 0,
      "outputs": []
    },
    {
      "cell_type": "markdown",
      "metadata": {
        "id": "Xlymcr_KIZzb",
        "colab_type": "text"
      },
      "source": [
        "##Adamic/Adar Index"
      ]
    },
    {
      "cell_type": "code",
      "metadata": {
        "id": "LtbrlxVdIedZ",
        "colab_type": "code",
        "colab": {}
      },
      "source": [
        "#adar index\n",
        "def calc_adar_in(a,b):\n",
        "    sum=0\n",
        "    try:\n",
        "        n=list(set(train_graph.successors(a)).intersection(set(train_graph.successors(b))))\n",
        "        if len(n)!=0:\n",
        "            for i in n:\n",
        "                sum=sum+(1/np.log10(len(list(train_graph.predecessors(i)))))\n",
        "            return sum\n",
        "        else:\n",
        "            return 0\n",
        "    except:\n",
        "        return 0"
      ],
      "execution_count": 0,
      "outputs": []
    },
    {
      "cell_type": "markdown",
      "metadata": {
        "id": "qpTZlhOxIkUi",
        "colab_type": "text"
      },
      "source": [
        "##Follows back"
      ]
    },
    {
      "cell_type": "code",
      "metadata": {
        "id": "KpZprJnnIvhG",
        "colab_type": "code",
        "colab": {}
      },
      "source": [
        "def follows_back(a,b):\n",
        "    if train_graph.has_edge(b,a):\n",
        "        return 1\n",
        "    else:\n",
        "        return 0"
      ],
      "execution_count": 0,
      "outputs": []
    },
    {
      "cell_type": "markdown",
      "metadata": {
        "id": "pqwmTuzVIy2V",
        "colab_type": "text"
      },
      "source": [
        "##Kartz centrality"
      ]
    },
    {
      "cell_type": "code",
      "metadata": {
        "id": "_AN64wrQIwUZ",
        "colab_type": "code",
        "colab": {}
      },
      "source": [
        "katz = nx.katz.katz_centrality(train_graph,alpha=0.005,beta=1)\n",
        "pickle.dump(katz,open(r'katz.p','wb'))\n"
      ],
      "execution_count": 0,
      "outputs": []
    },
    {
      "cell_type": "markdown",
      "metadata": {
        "id": "CgsyUi9gJHn-",
        "colab_type": "text"
      },
      "source": [
        "##Hits Algorithm"
      ]
    },
    {
      "cell_type": "code",
      "metadata": {
        "id": "DFlRpscwJCLN",
        "colab_type": "code",
        "colab": {}
      },
      "source": [
        "hits = nx.hits(train_graph, max_iter=100, tol=1e-08, nstart=None, normalized=True)\n",
        "pickle.dump(hits,open(r'hits.p','wb'))"
      ],
      "execution_count": 0,
      "outputs": []
    },
    {
      "cell_type": "markdown",
      "metadata": {
        "id": "oDHIzZ0kJN2S",
        "colab_type": "text"
      },
      "source": [
        "##SVD features"
      ]
    },
    {
      "cell_type": "code",
      "metadata": {
        "id": "rGS-x5h0JM7N",
        "colab_type": "code",
        "colab": {}
      },
      "source": [
        "def svd(x, S):\n",
        "    try:\n",
        "        z = sadj_dict[x]\n",
        "        return S[z]\n",
        "    except:\n",
        "        return [0,0,0,0,0,0]"
      ],
      "execution_count": 0,
      "outputs": []
    },
    {
      "cell_type": "code",
      "metadata": {
        "id": "idZmWtl5JX_a",
        "colab_type": "code",
        "colab": {}
      },
      "source": [
        "from scipy.sparse.linalg import svds, eigs\n",
        "\n",
        "#for svd features to get feature vector creating a dict node val and inedx in svd vector\n",
        "sadj_col = sorted(train_graph.nodes())\n",
        "sadj_dict = { val:idx for idx,val in enumerate(sadj_col)}\n",
        "\n",
        "Adj = nx.adjacency_matrix(train_graph,nodelist=sorted(train_graph.nodes())).asfptype()\n",
        "U, s, V = svds(Adj, k = 6)"
      ],
      "execution_count": 0,
      "outputs": []
    },
    {
      "cell_type": "markdown",
      "metadata": {
        "id": "r2_-L6wINFWc",
        "colab_type": "text"
      },
      "source": [
        "##weight features"
      ]
    },
    {
      "cell_type": "code",
      "metadata": {
        "id": "J1ILbQsjJkvS",
        "colab_type": "code",
        "outputId": "163780fa-13e5-4c9a-ba49-0843be439a12",
        "colab": {
          "base_uri": "https://localhost:8080/",
          "height": 34
        }
      },
      "source": [
        "from tqdm import tqdm\n",
        "import numpy as np\n",
        "\n",
        "Weight_in = {}\n",
        "Weight_out = {}\n",
        "for i in  tqdm(train_graph.nodes()):\n",
        "    s1=set(train_graph.predecessors(i))\n",
        "    w_in = 1.0/(np.sqrt(1+len(s1)))\n",
        "    Weight_in[i]=w_in\n",
        "    \n",
        "    s2=set(train_graph.successors(i))\n",
        "    w_out = 1.0/(np.sqrt(1+len(s2)))\n",
        "    Weight_out[i]=w_out\n",
        "    \n",
        "#for imputing with mean\n",
        "mean_weight_in = np.mean(list(Weight_in.values()))\n",
        "mean_weight_out = np.mean(list(Weight_out.values()))"
      ],
      "execution_count": 0,
      "outputs": [
        {
          "output_type": "stream",
          "text": [
            "100%|██████████| 1780924/1780924 [00:12<00:00, 141134.30it/s]\n"
          ],
          "name": "stderr"
        }
      ]
    },
    {
      "cell_type": "markdown",
      "metadata": {
        "id": "YNTroSqJNTAL",
        "colab_type": "text"
      },
      "source": [
        "#Data Combination of Features"
      ]
    },
    {
      "cell_type": "code",
      "metadata": {
        "id": "H8yKK1bGNLSI",
        "colab_type": "code",
        "outputId": "3e97b69a-f0bf-4373-ef04-66c6d9102862",
        "colab": {
          "base_uri": "https://localhost:8080/",
          "height": 221
        }
      },
      "source": [
        "n_train =  15100028\n",
        "s = 100000\n",
        "skip_train = sorted(random.sample(range(1,n_train+1),n_train-s))\n",
        "\n",
        "df_final_train = pd.read_csv('train_after_eda.csv', skiprows=skip_train, names=['source_node', 'destination_node'])\n",
        "df_final_train['indicator_link'] = pd.read_csv('train_y.csv', skiprows=skip_train, names=['indicator_link'])\n",
        "print(\"Our train matrix size \",df_final_train.shape)\n",
        "df_final_train.head(5)"
      ],
      "execution_count": 0,
      "outputs": [
        {
          "output_type": "stream",
          "text": [
            "Our train matrix size  (100001, 3)\n"
          ],
          "name": "stdout"
        },
        {
          "output_type": "execute_result",
          "data": {
            "text/html": [
              "<div>\n",
              "<style scoped>\n",
              "    .dataframe tbody tr th:only-of-type {\n",
              "        vertical-align: middle;\n",
              "    }\n",
              "\n",
              "    .dataframe tbody tr th {\n",
              "        vertical-align: top;\n",
              "    }\n",
              "\n",
              "    .dataframe thead th {\n",
              "        text-align: right;\n",
              "    }\n",
              "</style>\n",
              "<table border=\"1\" class=\"dataframe\">\n",
              "  <thead>\n",
              "    <tr style=\"text-align: right;\">\n",
              "      <th></th>\n",
              "      <th>source_node</th>\n",
              "      <th>destination_node</th>\n",
              "      <th>indicator_link</th>\n",
              "    </tr>\n",
              "  </thead>\n",
              "  <tbody>\n",
              "    <tr>\n",
              "      <th>0</th>\n",
              "      <td>273084</td>\n",
              "      <td>1484794</td>\n",
              "      <td>1</td>\n",
              "    </tr>\n",
              "    <tr>\n",
              "      <th>1</th>\n",
              "      <td>258962</td>\n",
              "      <td>79184</td>\n",
              "      <td>1</td>\n",
              "    </tr>\n",
              "    <tr>\n",
              "      <th>2</th>\n",
              "      <td>132222</td>\n",
              "      <td>365522</td>\n",
              "      <td>1</td>\n",
              "    </tr>\n",
              "    <tr>\n",
              "      <th>3</th>\n",
              "      <td>1618992</td>\n",
              "      <td>1791582</td>\n",
              "      <td>1</td>\n",
              "    </tr>\n",
              "    <tr>\n",
              "      <th>4</th>\n",
              "      <td>1691811</td>\n",
              "      <td>566126</td>\n",
              "      <td>1</td>\n",
              "    </tr>\n",
              "  </tbody>\n",
              "</table>\n",
              "</div>"
            ],
            "text/plain": [
              "   source_node  destination_node  indicator_link\n",
              "0       273084           1484794               1\n",
              "1       258962             79184               1\n",
              "2       132222            365522               1\n",
              "3      1618992           1791582               1\n",
              "4      1691811            566126               1"
            ]
          },
          "metadata": {
            "tags": []
          },
          "execution_count": 100
        }
      ]
    },
    {
      "cell_type": "code",
      "metadata": {
        "id": "_2-Oj7_iU0FY",
        "colab_type": "code",
        "outputId": "31379fd5-723d-4085-d685-ff816c939aec",
        "colab": {
          "base_uri": "https://localhost:8080/",
          "height": 221
        }
      },
      "source": [
        "n_test = 3775006\n",
        "s = 50000\n",
        "skip_test = sorted(random.sample(range(1,n_test+1),n_test-s))\n",
        "\n",
        "df_final_test = pd.read_csv(os.path.join('test_after_eda.csv'), skiprows=skip_test, names=['source_node', 'destination_node'])\n",
        "df_final_test['indicator_link'] = pd.read_csv('test_y.csv', skiprows=skip_test, names=['indicator_link'])\n",
        "print(\"Our test matrix size \",df_final_test.shape)\n",
        "df_final_test.head(5)"
      ],
      "execution_count": 0,
      "outputs": [
        {
          "output_type": "stream",
          "text": [
            "Our test matrix size  (50002, 3)\n"
          ],
          "name": "stdout"
        },
        {
          "output_type": "execute_result",
          "data": {
            "text/html": [
              "<div>\n",
              "<style scoped>\n",
              "    .dataframe tbody tr th:only-of-type {\n",
              "        vertical-align: middle;\n",
              "    }\n",
              "\n",
              "    .dataframe tbody tr th {\n",
              "        vertical-align: top;\n",
              "    }\n",
              "\n",
              "    .dataframe thead th {\n",
              "        text-align: right;\n",
              "    }\n",
              "</style>\n",
              "<table border=\"1\" class=\"dataframe\">\n",
              "  <thead>\n",
              "    <tr style=\"text-align: right;\">\n",
              "      <th></th>\n",
              "      <th>source_node</th>\n",
              "      <th>destination_node</th>\n",
              "      <th>indicator_link</th>\n",
              "    </tr>\n",
              "  </thead>\n",
              "  <tbody>\n",
              "    <tr>\n",
              "      <th>0</th>\n",
              "      <td>848424</td>\n",
              "      <td>301842</td>\n",
              "      <td>1</td>\n",
              "    </tr>\n",
              "    <tr>\n",
              "      <th>1</th>\n",
              "      <td>1849765</td>\n",
              "      <td>115543</td>\n",
              "      <td>1</td>\n",
              "    </tr>\n",
              "    <tr>\n",
              "      <th>2</th>\n",
              "      <td>279743</td>\n",
              "      <td>1828668</td>\n",
              "      <td>1</td>\n",
              "    </tr>\n",
              "    <tr>\n",
              "      <th>3</th>\n",
              "      <td>991374</td>\n",
              "      <td>89291</td>\n",
              "      <td>1</td>\n",
              "    </tr>\n",
              "    <tr>\n",
              "      <th>4</th>\n",
              "      <td>1822435</td>\n",
              "      <td>1173005</td>\n",
              "      <td>1</td>\n",
              "    </tr>\n",
              "  </tbody>\n",
              "</table>\n",
              "</div>"
            ],
            "text/plain": [
              "   source_node  destination_node  indicator_link\n",
              "0       848424            301842               1\n",
              "1      1849765            115543               1\n",
              "2       279743           1828668               1\n",
              "3       991374             89291               1\n",
              "4      1822435           1173005               1"
            ]
          },
          "metadata": {
            "tags": []
          },
          "execution_count": 101
        }
      ]
    },
    {
      "cell_type": "code",
      "metadata": {
        "id": "9vsCK-DFOOjH",
        "colab_type": "code",
        "colab": {}
      },
      "source": [
        "#for followees\n",
        "def jaccard_for_followees(a,b):\n",
        "    try:\n",
        "        if len(set(train_graph.successors(a))) == 0  | len(set(train_graph.successors(b))) == 0:\n",
        "            return 0\n",
        "        sim = (len(set(train_graph.successors(a)).intersection(set(train_graph.successors(b)))))/\\\n",
        "                                    (len(set(train_graph.successors(a)).union(set(train_graph.successors(b)))))\n",
        "    except:\n",
        "        return 0\n",
        "    return sim\n",
        "#for followers\n",
        "def jaccard_for_followers(a,b):\n",
        "    try:\n",
        "        if len(set(train_graph.predecessors(a))) == 0  | len(set(g.predecessors(b))) == 0:\n",
        "            return 0\n",
        "        sim = (len(set(train_graph.predecessors(a)).intersection(set(train_graph.predecessors(b)))))/\\\n",
        "                                 (len(set(train_graph.predecessors(a)).union(set(train_graph.predecessors(b)))))\n",
        "        return sim\n",
        "    except:\n",
        "        return 0\n",
        "#for followees\n",
        "def cosine_for_followees(a,b):\n",
        "    try:\n",
        "        if len(set(train_graph.successors(a))) == 0  | len(set(train_graph.successors(b))) == 0:\n",
        "            return 0\n",
        "        sim = (len(set(train_graph.successors(a)).intersection(set(train_graph.successors(b)))))/\\\n",
        "                                    (math.sqrt(len(set(train_graph.successors(a)))*len((set(train_graph.successors(b))))))\n",
        "        return sim\n",
        "    except:\n",
        "        return 0\n",
        "#for followers\n",
        "\n",
        "def cosine_for_followers(a,b):\n",
        "    try:\n",
        "        \n",
        "        if len(set(train_graph.predecessors(a))) == 0  | len(set(train_graph.predecessors(b))) == 0:\n",
        "            return 0\n",
        "        sim = (len(set(train_graph.predecessors(a)).intersection(set(train_graph.predecessors(b)))))/\\\n",
        "                                     (math.sqrt(len(set(train_graph.predecessors(a))))*(len(set(train_graph.predecessors(b)))))\n",
        "        return sim\n",
        "    except:\n",
        "        return 0"
      ],
      "execution_count": 0,
      "outputs": []
    },
    {
      "cell_type": "code",
      "metadata": {
        "id": "a-bUzbtDOBxn",
        "colab_type": "code",
        "colab": {}
      },
      "source": [
        "#mapping jaccrd followers to train and test data\n",
        "df_final_train['jaccard_followees'] = df_final_train.apply(lambda row:\n",
        "                                        jaccard_for_followees(row['source_node'],row['destination_node']),axis=1)\n",
        "df_final_test['jaccard_followers'] = df_final_test.apply(lambda row:\n",
        "                                        jaccard_for_followers(row['source_node'],row['destination_node']),axis=1)\n",
        "\n",
        "#mapping cosine followers to train and test data\n",
        "df_final_train['cosine_followees'] = df_final_train.apply(lambda row:\n",
        "                                        cosine_for_followees(row['source_node'],row['destination_node']),axis=1)\n",
        "df_final_test['cosine_followers'] = df_final_test.apply(lambda row:\n",
        "                                        cosine_for_followers(row['source_node'],row['destination_node']),axis=1)"
      ],
      "execution_count": 0,
      "outputs": []
    },
    {
      "cell_type": "code",
      "metadata": {
        "id": "CYLDBNpqUgw4",
        "colab_type": "code",
        "colab": {}
      },
      "source": [
        "def compute_features_stage1(df_final):\n",
        "    #calculating no of followers followees for source and destination\n",
        "    #calculating intersection of followers and followees for source and destination\n",
        "    num_followers_s=[]\n",
        "    num_followees_s=[]\n",
        "    num_followers_d=[]\n",
        "    num_followees_d=[]\n",
        "    inter_followers=[]\n",
        "    inter_followees=[]\n",
        "    for i,row in df_final.iterrows():\n",
        "        try:\n",
        "            s1=set(train_graph.predecessors(row['source_node']))\n",
        "            s2=set(train_graph.successors(row['source_node']))\n",
        "        except:\n",
        "            s1 = set()\n",
        "            s2 = set()\n",
        "        try:\n",
        "            d1=set(train_graph.predecessors(row['destination_node']))\n",
        "            d2=set(train_graph.successors(row['destination_node']))\n",
        "        except:\n",
        "            d1 = set()\n",
        "            d2 = set()\n",
        "        num_followers_s.append(len(s1))\n",
        "        num_followees_s.append(len(s2))\n",
        "\n",
        "        num_followers_d.append(len(d1))\n",
        "        num_followees_d.append(len(d2))\n",
        "\n",
        "        inter_followers.append(len(s1.intersection(d1)))\n",
        "        inter_followees.append(len(s2.intersection(d2)))\n",
        "    \n",
        "    return num_followers_s, num_followers_d, num_followees_s, num_followees_d, inter_followers, inter_followees"
      ],
      "execution_count": 0,
      "outputs": []
    },
    {
      "cell_type": "code",
      "metadata": {
        "id": "yohpLj0SW_sw",
        "colab_type": "code",
        "colab": {}
      },
      "source": [
        "df_final_train['num_followers_s'], df_final_train['num_followers_s'], \\\n",
        "df_final_train['num_followees_s'], df_final_train['num_followees_d'], \\\n",
        "df_final_train['inter_followers'], df_final_train['inter_followees']= compute_features_stage1(df_final_train)\n",
        "\n",
        "df_final_test['num_followers_s'], df_final_test['num_followers_s'], \\\n",
        "df_final_test['num_followees_s'], df_final_test['num_followees_d'], \\\n",
        "df_final_test['inter_followers'], df_final_test['inter_followees']= compute_features_stage1(df_final_test)\n",
        "\n",
        "hdf = HDFStore(r'storage_sample_stage1.h5')\n",
        "hdf.put('train_df',df_final_train, format='table', data_columns=True)\n",
        "hdf.put('test_df',df_final_test, format='table', data_columns=True)\n",
        "hdf.close()\n",
        "df_final_train = read_hdf(r'storage_sample_stage1.h5', 'train_df',mode='r')\n",
        "df_final_test = read_hdf(r'storage_sample_stage1.h5', 'test_df',mode='r')"
      ],
      "execution_count": 0,
      "outputs": []
    },
    {
      "cell_type": "code",
      "metadata": {
        "id": "rALegOwQXMZ9",
        "colab_type": "code",
        "colab": {}
      },
      "source": [
        "#mapping adar index on test\n",
        "df_final_train['adar_index'] = df_final_train.apply(lambda row: calc_adar_in(row['source_node'],row['destination_node']),axis=1)\n",
        "\n",
        "df_final_test['adar_index'] = df_final_test.apply(lambda row: calc_adar_in(row['source_node'],row['destination_node']),axis=1)\n",
        "\n",
        "#mapping followback or not on train\n",
        "df_final_train['follows_back'] = df_final_train.apply(lambda row: follows_back(row['source_node'],row['destination_node']),axis=1)\n",
        "\n",
        "#mapping followback or not on test\n",
        "df_final_test['follows_back'] = df_final_test.apply(lambda row: follows_back(row['source_node'],row['destination_node']),axis=1)\n",
        "\n",
        "#mapping same component of wcc or not on train\n",
        "df_final_train['same_comp'] = df_final_train.apply(lambda row: belongs_to_same_wcc(row['source_node'],row['destination_node']),axis=1)\n",
        "\n",
        "##mapping same component of wcc or not on train\n",
        "df_final_test['same_comp'] = df_final_test.apply(lambda row: belongs_to_same_wcc(row['source_node'],row['destination_node']),axis=1)\n",
        "\n",
        "#mapping shortest path on train \n",
        "df_final_train['shortest_path'] = df_final_train.apply(lambda row: compute_shortest_path_length(row['source_node'],row['destination_node']),axis=1)\n",
        "#mapping shortest path on test\n",
        "df_final_test['shortest_path'] = df_final_test.apply(lambda row: compute_shortest_path_length(row['source_node'],row['destination_node']),axis=1)\n",
        "\n",
        "hdf = HDFStore(r'storage_sample_stage2.h5')\n",
        "hdf.put('train_df',df_final_train, format='table', data_columns=True)\n",
        "hdf.put('test_df',df_final_test, format='table', data_columns=True)\n",
        "hdf.close()"
      ],
      "execution_count": 0,
      "outputs": []
    },
    {
      "cell_type": "code",
      "metadata": {
        "id": "qGCKS2pOX_Bk",
        "colab_type": "code",
        "colab": {}
      },
      "source": [
        "mean_katz = float(sum(katz.values())) / len(katz)\n",
        "\n",
        "#page rank for source and destination in Train and Test\n",
        "#if anything not there in train graph then adding mean page rank \n",
        "df_final_train['page_rank_s'] = df_final_train.source_node.apply(lambda x:pr.get(x,mean_pr))\n",
        "df_final_train['page_rank_d'] = df_final_train.destination_node.apply(lambda x:pr.get(x,mean_pr))\n",
        "\n",
        "df_final_test['page_rank_s'] = df_final_test.source_node.apply(lambda x:pr.get(x,mean_pr))\n",
        "df_final_test['page_rank_d'] = df_final_test.destination_node.apply(lambda x:pr.get(x,mean_pr))\n",
        "#================================================================================\n",
        "\n",
        "#Katz centrality score for source and destination in Train and test\n",
        "#if anything not there in train graph then adding mean katz score\n",
        "df_final_train['katz_s'] = df_final_train.source_node.apply(lambda x: katz.get(x,mean_katz))\n",
        "df_final_train['katz_d'] = df_final_train.destination_node.apply(lambda x: katz.get(x,mean_katz))\n",
        "\n",
        "df_final_test['katz_s'] = df_final_test.source_node.apply(lambda x: katz.get(x,mean_katz))\n",
        "df_final_test['katz_d'] = df_final_test.destination_node.apply(lambda x: katz.get(x,mean_katz))\n",
        "#================================================================================\n",
        "\n",
        "#Hits algorithm score for source and destination in Train and test\n",
        "#if anything not there in train graph then adding 0\n",
        "df_final_train['hubs_s'] = df_final_train.source_node.apply(lambda x: hits[0].get(x,0))\n",
        "df_final_train['hubs_d'] = df_final_train.destination_node.apply(lambda x: hits[0].get(x,0))\n",
        "\n",
        "df_final_test['hubs_s'] = df_final_test.source_node.apply(lambda x: hits[0].get(x,0))\n",
        "df_final_test['hubs_d'] = df_final_test.destination_node.apply(lambda x: hits[0].get(x,0))\n",
        "#================================================================================\n",
        "\n",
        "#Hits algorithm score for source and destination in Train and Test\n",
        "#if anything not there in train graph then adding 0\n",
        "df_final_train['authorities_s'] = df_final_train.source_node.apply(lambda x: hits[1].get(x,0))\n",
        "df_final_train['authorities_d'] = df_final_train.destination_node.apply(lambda x: hits[1].get(x,0))\n",
        "\n",
        "df_final_test['authorities_s'] = df_final_test.source_node.apply(lambda x: hits[1].get(x,0))\n",
        "df_final_test['authorities_d'] = df_final_test.destination_node.apply(lambda x: hits[1].get(x,0))\n",
        "#================================================================================\n",
        "\n",
        "hdf = HDFStore(r'storage_sample_stage3.h5')\n",
        "hdf.put('train_df',df_final_train, format='table', data_columns=True)\n",
        "hdf.put('test_df',df_final_test, format='table', data_columns=True)\n",
        "hdf.close()"
      ],
      "execution_count": 0,
      "outputs": []
    },
    {
      "cell_type": "code",
      "metadata": {
        "id": "wXd2uHuOYZ2K",
        "colab_type": "code",
        "colab": {}
      },
      "source": [
        "#mapping to pandas train\n",
        "df_final_train['weight_in'] = df_final_train.destination_node.apply(lambda x: Weight_in.get(x,mean_weight_in))\n",
        "df_final_train['weight_out'] = df_final_train.source_node.apply(lambda x: Weight_out.get(x,mean_weight_out))\n",
        "\n",
        "#mapping to pandas test\n",
        "df_final_test['weight_in'] = df_final_test.destination_node.apply(lambda x: Weight_in.get(x,mean_weight_in))\n",
        "df_final_test['weight_out'] = df_final_test.source_node.apply(lambda x: Weight_out.get(x,mean_weight_out))\n",
        "\n",
        "\n",
        "#some features engineerings on the in and out weights\n",
        "df_final_train['weight_f1'] = df_final_train.weight_in + df_final_train.weight_out\n",
        "df_final_train['weight_f2'] = df_final_train.weight_in * df_final_train.weight_out\n",
        "df_final_train['weight_f3'] = (2*df_final_train.weight_in + 1*df_final_train.weight_out)\n",
        "df_final_train['weight_f4'] = (1*df_final_train.weight_in + 2*df_final_train.weight_out)\n",
        "\n",
        "#some features engineerings on the in and out weights\n",
        "df_final_test['weight_f1'] = df_final_test.weight_in + df_final_test.weight_out\n",
        "df_final_test['weight_f2'] = df_final_test.weight_in * df_final_test.weight_out\n",
        "df_final_test['weight_f3'] = (2*df_final_test.weight_in + 1*df_final_test.weight_out)\n",
        "df_final_test['weight_f4'] = (1*df_final_test.weight_in + 2*df_final_test.weight_out)"
      ],
      "execution_count": 0,
      "outputs": []
    },
    {
      "cell_type": "code",
      "metadata": {
        "id": "98mV8602ZNFh",
        "colab_type": "code",
        "colab": {}
      },
      "source": [
        "df_final_train[['svd_u_s_1', 'svd_u_s_2','svd_u_s_3', 'svd_u_s_4', 'svd_u_s_5', 'svd_u_s_6']] = \\\n",
        "df_final_train.source_node.apply(lambda x: svd(x, U)).apply(pd.Series)\n",
        "\n",
        "df_final_train[['svd_u_d_1', 'svd_u_d_2', 'svd_u_d_3', 'svd_u_d_4', 'svd_u_d_5','svd_u_d_6']] = \\\n",
        "df_final_train.destination_node.apply(lambda x: svd(x, U)).apply(pd.Series)\n",
        "#===================================================================================================\n",
        "\n",
        "df_final_train[['svd_v_s_1','svd_v_s_2', 'svd_v_s_3', 'svd_v_s_4', 'svd_v_s_5', 'svd_v_s_6',]] = \\\n",
        "df_final_train.source_node.apply(lambda x: svd(x, V.T)).apply(pd.Series)\n",
        "\n",
        "df_final_train[['svd_v_d_1', 'svd_v_d_2', 'svd_v_d_3', 'svd_v_d_4', 'svd_v_d_5','svd_v_d_6']] = \\\n",
        "df_final_train.destination_node.apply(lambda x: svd(x, V.T)).apply(pd.Series)\n",
        "#===================================================================================================\n",
        "\n",
        "df_final_test[['svd_u_s_1', 'svd_u_s_2','svd_u_s_3', 'svd_u_s_4', 'svd_u_s_5', 'svd_u_s_6']] = \\\n",
        "df_final_test.source_node.apply(lambda x: svd(x, U)).apply(pd.Series)\n",
        "\n",
        "df_final_test[['svd_u_d_1', 'svd_u_d_2', 'svd_u_d_3', 'svd_u_d_4', 'svd_u_d_5','svd_u_d_6']] = \\\n",
        "df_final_test.destination_node.apply(lambda x: svd(x, U)).apply(pd.Series)\n",
        "\n",
        "#===================================================================================================\n",
        "\n",
        "df_final_test[['svd_v_s_1','svd_v_s_2', 'svd_v_s_3', 'svd_v_s_4', 'svd_v_s_5', 'svd_v_s_6',]] = \\\n",
        "df_final_test.source_node.apply(lambda x: svd(x, V.T)).apply(pd.Series)\n",
        "\n",
        "df_final_test[['svd_v_d_1', 'svd_v_d_2', 'svd_v_d_3', 'svd_v_d_4', 'svd_v_d_5','svd_v_d_6']] = \\\n",
        "df_final_test.destination_node.apply(lambda x: svd(x, V.T)).apply(pd.Series)\n",
        "#===================================================================================================\n",
        "\n",
        "hdf = HDFStore(r'storage_sample_stage4.h5')\n",
        "hdf.put('train_df',df_final_train, format='table', data_columns=True)\n",
        "hdf.put('test_df',df_final_test, format='table', data_columns=True)\n",
        "hdf.close()\n"
      ],
      "execution_count": 0,
      "outputs": []
    },
    {
      "cell_type": "markdown",
      "metadata": {
        "id": "pqWvoKfzZeFd",
        "colab_type": "text"
      },
      "source": [
        "#Load Data"
      ]
    },
    {
      "cell_type": "code",
      "metadata": {
        "id": "dm-optBDZaLA",
        "colab_type": "code",
        "colab": {}
      },
      "source": [
        "df_final_train = read_hdf(r'storage_sample_stage4.h5', 'train_df',mode='r')\n",
        "df_final_test = read_hdf(r'storage_sample_stage4.h5', 'test_df',mode='r')"
      ],
      "execution_count": 0,
      "outputs": []
    },
    {
      "cell_type": "code",
      "metadata": {
        "id": "Btr0P2AwZs5V",
        "colab_type": "code",
        "outputId": "050d6ae1-747d-4c2c-844b-1e655069d6cd",
        "colab": {
          "base_uri": "https://localhost:8080/",
          "height": 238
        }
      },
      "source": [
        "df_final_train.columns\n"
      ],
      "execution_count": 0,
      "outputs": [
        {
          "output_type": "execute_result",
          "data": {
            "text/plain": [
              "Index(['source_node', 'destination_node', 'indicator_link',\n",
              "       'jaccard_followees', 'cosine_followees', 'num_followers_s',\n",
              "       'num_followees_s', 'num_followees_d', 'inter_followers',\n",
              "       'inter_followees', 'adar_index', 'follows_back', 'same_comp',\n",
              "       'shortest_path', 'page_rank_s', 'page_rank_d', 'katz_s', 'katz_d',\n",
              "       'hubs_s', 'hubs_d', 'authorities_s', 'authorities_d', 'svd_u_s_1',\n",
              "       'svd_u_s_2', 'svd_u_s_3', 'svd_u_s_4', 'svd_u_s_5', 'svd_u_s_6',\n",
              "       'svd_u_d_1', 'svd_u_d_2', 'svd_u_d_3', 'svd_u_d_4', 'svd_u_d_5',\n",
              "       'svd_u_d_6', 'svd_v_s_1', 'svd_v_s_2', 'svd_v_s_3', 'svd_v_s_4',\n",
              "       'svd_v_s_5', 'svd_v_s_6', 'svd_v_d_1', 'svd_v_d_2', 'svd_v_d_3',\n",
              "       'svd_v_d_4', 'svd_v_d_5', 'svd_v_d_6', 'weight_in', 'weight_out',\n",
              "       'weight_f1', 'weight_f2', 'weight_f3', 'weight_f4'],\n",
              "      dtype='object')"
            ]
          },
          "metadata": {
            "tags": []
          },
          "execution_count": 21
        }
      ]
    },
    {
      "cell_type": "code",
      "metadata": {
        "id": "Z46oItmtZwna",
        "colab_type": "code",
        "colab": {}
      },
      "source": [
        "y_train = df_final_train.indicator_link\n",
        "y_test = df_final_test.indicator_link"
      ],
      "execution_count": 0,
      "outputs": []
    },
    {
      "cell_type": "code",
      "metadata": {
        "id": "yoleOUnSZ0UU",
        "colab_type": "code",
        "colab": {}
      },
      "source": [
        "df_final_train.drop(['source_node', 'destination_node','indicator_link'],axis=1,inplace=True)\n",
        "df_final_test.drop(['source_node', 'destination_node','indicator_link'],axis=1,inplace=True)"
      ],
      "execution_count": 0,
      "outputs": []
    },
    {
      "cell_type": "code",
      "metadata": {
        "id": "qN9qyXoBaH-Q",
        "colab_type": "code",
        "outputId": "c551104c-91cc-4987-d2f1-50b751d19853",
        "colab": {
          "base_uri": "https://localhost:8080/",
          "height": 609
        }
      },
      "source": [
        "df_final_train\n"
      ],
      "execution_count": 0,
      "outputs": [
        {
          "output_type": "execute_result",
          "data": {
            "text/html": [
              "<div>\n",
              "<style scoped>\n",
              "    .dataframe tbody tr th:only-of-type {\n",
              "        vertical-align: middle;\n",
              "    }\n",
              "\n",
              "    .dataframe tbody tr th {\n",
              "        vertical-align: top;\n",
              "    }\n",
              "\n",
              "    .dataframe thead th {\n",
              "        text-align: right;\n",
              "    }\n",
              "</style>\n",
              "<table border=\"1\" class=\"dataframe\">\n",
              "  <thead>\n",
              "    <tr style=\"text-align: right;\">\n",
              "      <th></th>\n",
              "      <th>jaccard_followees</th>\n",
              "      <th>cosine_followees</th>\n",
              "      <th>num_followers_s</th>\n",
              "      <th>num_followees_s</th>\n",
              "      <th>num_followees_d</th>\n",
              "      <th>inter_followers</th>\n",
              "      <th>inter_followees</th>\n",
              "      <th>adar_index</th>\n",
              "      <th>follows_back</th>\n",
              "      <th>same_comp</th>\n",
              "      <th>shortest_path</th>\n",
              "      <th>page_rank_s</th>\n",
              "      <th>page_rank_d</th>\n",
              "      <th>katz_s</th>\n",
              "      <th>katz_d</th>\n",
              "      <th>hubs_s</th>\n",
              "      <th>hubs_d</th>\n",
              "      <th>authorities_s</th>\n",
              "      <th>authorities_d</th>\n",
              "      <th>svd_u_s_1</th>\n",
              "      <th>svd_u_s_2</th>\n",
              "      <th>svd_u_s_3</th>\n",
              "      <th>svd_u_s_4</th>\n",
              "      <th>svd_u_s_5</th>\n",
              "      <th>svd_u_s_6</th>\n",
              "      <th>svd_u_d_1</th>\n",
              "      <th>svd_u_d_2</th>\n",
              "      <th>svd_u_d_3</th>\n",
              "      <th>svd_u_d_4</th>\n",
              "      <th>svd_u_d_5</th>\n",
              "      <th>svd_u_d_6</th>\n",
              "      <th>svd_v_s_1</th>\n",
              "      <th>svd_v_s_2</th>\n",
              "      <th>svd_v_s_3</th>\n",
              "      <th>svd_v_s_4</th>\n",
              "      <th>svd_v_s_5</th>\n",
              "      <th>svd_v_s_6</th>\n",
              "      <th>svd_v_d_1</th>\n",
              "      <th>svd_v_d_2</th>\n",
              "      <th>svd_v_d_3</th>\n",
              "      <th>svd_v_d_4</th>\n",
              "      <th>svd_v_d_5</th>\n",
              "      <th>svd_v_d_6</th>\n",
              "      <th>weight_in</th>\n",
              "      <th>weight_out</th>\n",
              "      <th>weight_f1</th>\n",
              "      <th>weight_f2</th>\n",
              "      <th>weight_f3</th>\n",
              "      <th>weight_f4</th>\n",
              "    </tr>\n",
              "  </thead>\n",
              "  <tbody>\n",
              "    <tr>\n",
              "      <th>0</th>\n",
              "      <td>0.055556</td>\n",
              "      <td>0.129099</td>\n",
              "      <td>3</td>\n",
              "      <td>15</td>\n",
              "      <td>4</td>\n",
              "      <td>1</td>\n",
              "      <td>1</td>\n",
              "      <td>3.321928</td>\n",
              "      <td>1</td>\n",
              "      <td>1</td>\n",
              "      <td>2</td>\n",
              "      <td>1.961569e-06</td>\n",
              "      <td>4.757810e-07</td>\n",
              "      <td>0.000778</td>\n",
              "      <td>0.000743</td>\n",
              "      <td>1.954121e-13</td>\n",
              "      <td>5.054059e-17</td>\n",
              "      <td>3.111973e-15</td>\n",
              "      <td>1.377672e-15</td>\n",
              "      <td>1.019605e-13</td>\n",
              "      <td>-6.572112e-13</td>\n",
              "      <td>-8.819311e-06</td>\n",
              "      <td>2.422223e-13</td>\n",
              "      <td>-1.916967e-13</td>\n",
              "      <td>3.602248e-12</td>\n",
              "      <td>-1.704648e-14</td>\n",
              "      <td>-2.239125e-14</td>\n",
              "      <td>-1.098618e-07</td>\n",
              "      <td>1.617435e-14</td>\n",
              "      <td>-6.249255e-15</td>\n",
              "      <td>9.316865e-16</td>\n",
              "      <td>-5.205799e-13</td>\n",
              "      <td>-7.954716e-13</td>\n",
              "      <td>-9.495677e-06</td>\n",
              "      <td>1.139988e-13</td>\n",
              "      <td>-5.959877e-13</td>\n",
              "      <td>5.795939e-14</td>\n",
              "      <td>3.130080e-15</td>\n",
              "      <td>-1.998653e-13</td>\n",
              "      <td>-1.506458e-07</td>\n",
              "      <td>2.711542e-15</td>\n",
              "      <td>-2.289222e-15</td>\n",
              "      <td>2.565864e-14</td>\n",
              "      <td>0.500000</td>\n",
              "      <td>0.250000</td>\n",
              "      <td>0.750000</td>\n",
              "      <td>0.125000</td>\n",
              "      <td>1.250000</td>\n",
              "      <td>1.000000</td>\n",
              "    </tr>\n",
              "    <tr>\n",
              "      <th>1</th>\n",
              "      <td>0.050000</td>\n",
              "      <td>0.095346</td>\n",
              "      <td>11</td>\n",
              "      <td>11</td>\n",
              "      <td>10</td>\n",
              "      <td>1</td>\n",
              "      <td>1</td>\n",
              "      <td>0.658539</td>\n",
              "      <td>1</td>\n",
              "      <td>1</td>\n",
              "      <td>2</td>\n",
              "      <td>5.441552e-07</td>\n",
              "      <td>7.176557e-07</td>\n",
              "      <td>0.000772</td>\n",
              "      <td>0.000775</td>\n",
              "      <td>4.963029e-13</td>\n",
              "      <td>1.489705e-14</td>\n",
              "      <td>1.550655e-13</td>\n",
              "      <td>5.814455e-15</td>\n",
              "      <td>-5.185591e-11</td>\n",
              "      <td>-3.286916e-10</td>\n",
              "      <td>-4.965936e-11</td>\n",
              "      <td>1.351735e-10</td>\n",
              "      <td>-9.704149e-10</td>\n",
              "      <td>9.148900e-12</td>\n",
              "      <td>-4.974918e-11</td>\n",
              "      <td>-1.689749e-10</td>\n",
              "      <td>-3.193846e-10</td>\n",
              "      <td>4.949460e-11</td>\n",
              "      <td>-8.696722e-11</td>\n",
              "      <td>2.746138e-13</td>\n",
              "      <td>-9.318856e-12</td>\n",
              "      <td>-1.089958e-09</td>\n",
              "      <td>-6.946733e-11</td>\n",
              "      <td>7.490989e-10</td>\n",
              "      <td>-1.579003e-10</td>\n",
              "      <td>2.888039e-12</td>\n",
              "      <td>-1.938287e-09</td>\n",
              "      <td>-4.107902e-11</td>\n",
              "      <td>-2.030262e-11</td>\n",
              "      <td>2.177042e-11</td>\n",
              "      <td>-1.870343e-09</td>\n",
              "      <td>1.082916e-13</td>\n",
              "      <td>0.288675</td>\n",
              "      <td>0.288675</td>\n",
              "      <td>0.577350</td>\n",
              "      <td>0.083333</td>\n",
              "      <td>0.866025</td>\n",
              "      <td>0.866025</td>\n",
              "    </tr>\n",
              "    <tr>\n",
              "      <th>2</th>\n",
              "      <td>0.093023</td>\n",
              "      <td>0.195180</td>\n",
              "      <td>9</td>\n",
              "      <td>35</td>\n",
              "      <td>12</td>\n",
              "      <td>3</td>\n",
              "      <td>4</td>\n",
              "      <td>3.471530</td>\n",
              "      <td>1</td>\n",
              "      <td>1</td>\n",
              "      <td>2</td>\n",
              "      <td>2.349335e-06</td>\n",
              "      <td>5.895782e-07</td>\n",
              "      <td>0.000861</td>\n",
              "      <td>0.000767</td>\n",
              "      <td>2.942000e-14</td>\n",
              "      <td>2.799871e-14</td>\n",
              "      <td>1.344663e-14</td>\n",
              "      <td>2.676856e-15</td>\n",
              "      <td>-2.313314e-13</td>\n",
              "      <td>-5.797346e-12</td>\n",
              "      <td>-1.164939e-11</td>\n",
              "      <td>3.953522e-11</td>\n",
              "      <td>-2.150889e-11</td>\n",
              "      <td>5.423310e-13</td>\n",
              "      <td>-1.008018e-13</td>\n",
              "      <td>-4.337112e-13</td>\n",
              "      <td>-2.191837e-12</td>\n",
              "      <td>1.356375e-11</td>\n",
              "      <td>-2.867358e-13</td>\n",
              "      <td>5.161311e-13</td>\n",
              "      <td>-2.162411e-12</td>\n",
              "      <td>-1.843070e-11</td>\n",
              "      <td>-2.248888e-11</td>\n",
              "      <td>6.256677e-12</td>\n",
              "      <td>-1.849230e-11</td>\n",
              "      <td>2.504386e-13</td>\n",
              "      <td>-5.208097e-13</td>\n",
              "      <td>-7.618956e-13</td>\n",
              "      <td>-1.440518e-12</td>\n",
              "      <td>2.965838e-12</td>\n",
              "      <td>-5.172387e-13</td>\n",
              "      <td>4.985548e-14</td>\n",
              "      <td>0.316228</td>\n",
              "      <td>0.166667</td>\n",
              "      <td>0.482894</td>\n",
              "      <td>0.052705</td>\n",
              "      <td>0.799122</td>\n",
              "      <td>0.649561</td>\n",
              "    </tr>\n",
              "    <tr>\n",
              "      <th>3</th>\n",
              "      <td>0.181818</td>\n",
              "      <td>0.316228</td>\n",
              "      <td>11</td>\n",
              "      <td>5</td>\n",
              "      <td>8</td>\n",
              "      <td>5</td>\n",
              "      <td>2</td>\n",
              "      <td>2.261159</td>\n",
              "      <td>1</td>\n",
              "      <td>1</td>\n",
              "      <td>2</td>\n",
              "      <td>1.099465e-06</td>\n",
              "      <td>1.297312e-06</td>\n",
              "      <td>0.000765</td>\n",
              "      <td>0.000773</td>\n",
              "      <td>2.925380e-17</td>\n",
              "      <td>3.081806e-17</td>\n",
              "      <td>1.207985e-17</td>\n",
              "      <td>1.319768e-15</td>\n",
              "      <td>-6.677416e-14</td>\n",
              "      <td>-8.145363e-13</td>\n",
              "      <td>-1.054457e-12</td>\n",
              "      <td>3.071162e-14</td>\n",
              "      <td>-1.831368e-13</td>\n",
              "      <td>5.391729e-16</td>\n",
              "      <td>-4.195164e-14</td>\n",
              "      <td>-8.573568e-13</td>\n",
              "      <td>-1.583891e-12</td>\n",
              "      <td>5.277859e-14</td>\n",
              "      <td>-7.950763e-14</td>\n",
              "      <td>5.679677e-16</td>\n",
              "      <td>-4.016296e-13</td>\n",
              "      <td>-5.828399e-13</td>\n",
              "      <td>-3.542340e-12</td>\n",
              "      <td>7.045128e-14</td>\n",
              "      <td>-3.062892e-13</td>\n",
              "      <td>2.249795e-16</td>\n",
              "      <td>-3.387364e-12</td>\n",
              "      <td>-1.637145e-12</td>\n",
              "      <td>-3.620600e-11</td>\n",
              "      <td>1.445912e-13</td>\n",
              "      <td>-1.351641e-11</td>\n",
              "      <td>2.458020e-14</td>\n",
              "      <td>0.288675</td>\n",
              "      <td>0.408248</td>\n",
              "      <td>0.696923</td>\n",
              "      <td>0.117851</td>\n",
              "      <td>0.985599</td>\n",
              "      <td>1.105172</td>\n",
              "    </tr>\n",
              "    <tr>\n",
              "      <th>4</th>\n",
              "      <td>0.630435</td>\n",
              "      <td>0.773953</td>\n",
              "      <td>27</td>\n",
              "      <td>36</td>\n",
              "      <td>39</td>\n",
              "      <td>9</td>\n",
              "      <td>29</td>\n",
              "      <td>25.104405</td>\n",
              "      <td>1</td>\n",
              "      <td>1</td>\n",
              "      <td>2</td>\n",
              "      <td>4.465407e-07</td>\n",
              "      <td>1.060364e-06</td>\n",
              "      <td>0.000783</td>\n",
              "      <td>0.000836</td>\n",
              "      <td>8.225244e-16</td>\n",
              "      <td>8.941710e-16</td>\n",
              "      <td>6.484491e-16</td>\n",
              "      <td>6.439102e-16</td>\n",
              "      <td>-3.859672e-14</td>\n",
              "      <td>-1.185517e-12</td>\n",
              "      <td>-1.423704e-12</td>\n",
              "      <td>2.497297e-12</td>\n",
              "      <td>-1.679525e-11</td>\n",
              "      <td>1.516260e-14</td>\n",
              "      <td>-4.527603e-14</td>\n",
              "      <td>-1.494119e-12</td>\n",
              "      <td>-1.797779e-12</td>\n",
              "      <td>3.090089e-12</td>\n",
              "      <td>-1.589416e-11</td>\n",
              "      <td>1.648372e-14</td>\n",
              "      <td>-5.287844e-15</td>\n",
              "      <td>-5.851384e-13</td>\n",
              "      <td>-6.337271e-12</td>\n",
              "      <td>4.330002e-13</td>\n",
              "      <td>-1.346522e-12</td>\n",
              "      <td>1.207715e-14</td>\n",
              "      <td>-5.256908e-15</td>\n",
              "      <td>-5.758118e-13</td>\n",
              "      <td>-6.344621e-12</td>\n",
              "      <td>4.063996e-13</td>\n",
              "      <td>-1.202703e-12</td>\n",
              "      <td>1.199261e-14</td>\n",
              "      <td>0.188982</td>\n",
              "      <td>0.164399</td>\n",
              "      <td>0.353381</td>\n",
              "      <td>0.031068</td>\n",
              "      <td>0.542363</td>\n",
              "      <td>0.517780</td>\n",
              "    </tr>\n",
              "    <tr>\n",
              "      <th>...</th>\n",
              "      <td>...</td>\n",
              "      <td>...</td>\n",
              "      <td>...</td>\n",
              "      <td>...</td>\n",
              "      <td>...</td>\n",
              "      <td>...</td>\n",
              "      <td>...</td>\n",
              "      <td>...</td>\n",
              "      <td>...</td>\n",
              "      <td>...</td>\n",
              "      <td>...</td>\n",
              "      <td>...</td>\n",
              "      <td>...</td>\n",
              "      <td>...</td>\n",
              "      <td>...</td>\n",
              "      <td>...</td>\n",
              "      <td>...</td>\n",
              "      <td>...</td>\n",
              "      <td>...</td>\n",
              "      <td>...</td>\n",
              "      <td>...</td>\n",
              "      <td>...</td>\n",
              "      <td>...</td>\n",
              "      <td>...</td>\n",
              "      <td>...</td>\n",
              "      <td>...</td>\n",
              "      <td>...</td>\n",
              "      <td>...</td>\n",
              "      <td>...</td>\n",
              "      <td>...</td>\n",
              "      <td>...</td>\n",
              "      <td>...</td>\n",
              "      <td>...</td>\n",
              "      <td>...</td>\n",
              "      <td>...</td>\n",
              "      <td>...</td>\n",
              "      <td>...</td>\n",
              "      <td>...</td>\n",
              "      <td>...</td>\n",
              "      <td>...</td>\n",
              "      <td>...</td>\n",
              "      <td>...</td>\n",
              "      <td>...</td>\n",
              "      <td>...</td>\n",
              "      <td>...</td>\n",
              "      <td>...</td>\n",
              "      <td>...</td>\n",
              "      <td>...</td>\n",
              "      <td>...</td>\n",
              "    </tr>\n",
              "    <tr>\n",
              "      <th>99996</th>\n",
              "      <td>0.000000</td>\n",
              "      <td>0.000000</td>\n",
              "      <td>1</td>\n",
              "      <td>2</td>\n",
              "      <td>0</td>\n",
              "      <td>0</td>\n",
              "      <td>0</td>\n",
              "      <td>0.000000</td>\n",
              "      <td>0</td>\n",
              "      <td>1</td>\n",
              "      <td>8</td>\n",
              "      <td>4.690823e-07</td>\n",
              "      <td>1.936241e-07</td>\n",
              "      <td>0.000743</td>\n",
              "      <td>0.000735</td>\n",
              "      <td>8.338283e-18</td>\n",
              "      <td>0.000000e+00</td>\n",
              "      <td>1.158506e-15</td>\n",
              "      <td>1.997597e-18</td>\n",
              "      <td>-6.119122e-15</td>\n",
              "      <td>-3.058851e-15</td>\n",
              "      <td>-9.933877e-15</td>\n",
              "      <td>3.347630e-13</td>\n",
              "      <td>-9.792662e-16</td>\n",
              "      <td>1.537123e-16</td>\n",
              "      <td>3.790241e-20</td>\n",
              "      <td>1.672693e-19</td>\n",
              "      <td>-1.254311e-19</td>\n",
              "      <td>4.162165e-20</td>\n",
              "      <td>1.962430e-19</td>\n",
              "      <td>1.365078e-20</td>\n",
              "      <td>-4.591946e-15</td>\n",
              "      <td>-2.153087e-13</td>\n",
              "      <td>-1.000770e-12</td>\n",
              "      <td>3.461279e-11</td>\n",
              "      <td>-1.097056e-13</td>\n",
              "      <td>2.157676e-14</td>\n",
              "      <td>-1.017395e-13</td>\n",
              "      <td>-2.164386e-15</td>\n",
              "      <td>-5.804958e-13</td>\n",
              "      <td>1.744703e-15</td>\n",
              "      <td>-1.691775e-15</td>\n",
              "      <td>3.720364e-17</td>\n",
              "      <td>0.707107</td>\n",
              "      <td>0.577350</td>\n",
              "      <td>1.284457</td>\n",
              "      <td>0.408248</td>\n",
              "      <td>1.991564</td>\n",
              "      <td>1.861807</td>\n",
              "    </tr>\n",
              "    <tr>\n",
              "      <th>99997</th>\n",
              "      <td>0.000000</td>\n",
              "      <td>0.000000</td>\n",
              "      <td>1</td>\n",
              "      <td>0</td>\n",
              "      <td>0</td>\n",
              "      <td>0</td>\n",
              "      <td>0</td>\n",
              "      <td>0.000000</td>\n",
              "      <td>0</td>\n",
              "      <td>1</td>\n",
              "      <td>-1</td>\n",
              "      <td>6.428291e-07</td>\n",
              "      <td>4.041889e-07</td>\n",
              "      <td>0.000735</td>\n",
              "      <td>0.000735</td>\n",
              "      <td>0.000000e+00</td>\n",
              "      <td>0.000000e+00</td>\n",
              "      <td>0.000000e+00</td>\n",
              "      <td>6.484250e-23</td>\n",
              "      <td>1.029805e-20</td>\n",
              "      <td>4.138238e-20</td>\n",
              "      <td>-3.269483e-20</td>\n",
              "      <td>1.394433e-20</td>\n",
              "      <td>5.095021e-20</td>\n",
              "      <td>4.897695e-22</td>\n",
              "      <td>4.217216e-20</td>\n",
              "      <td>1.214866e-19</td>\n",
              "      <td>-8.792657e-20</td>\n",
              "      <td>1.737508e-20</td>\n",
              "      <td>1.304995e-19</td>\n",
              "      <td>-8.501288e-21</td>\n",
              "      <td>-7.079027e-25</td>\n",
              "      <td>-5.207180e-24</td>\n",
              "      <td>5.205538e-24</td>\n",
              "      <td>-3.199114e-24</td>\n",
              "      <td>-9.991067e-24</td>\n",
              "      <td>-2.973740e-26</td>\n",
              "      <td>-9.085735e-18</td>\n",
              "      <td>-9.086223e-20</td>\n",
              "      <td>-1.373126e-18</td>\n",
              "      <td>6.067295e-18</td>\n",
              "      <td>-6.853221e-20</td>\n",
              "      <td>1.253781e-21</td>\n",
              "      <td>0.707107</td>\n",
              "      <td>1.000000</td>\n",
              "      <td>1.707107</td>\n",
              "      <td>0.707107</td>\n",
              "      <td>2.414214</td>\n",
              "      <td>2.707107</td>\n",
              "    </tr>\n",
              "    <tr>\n",
              "      <th>99998</th>\n",
              "      <td>0.000000</td>\n",
              "      <td>0.000000</td>\n",
              "      <td>4</td>\n",
              "      <td>1</td>\n",
              "      <td>3</td>\n",
              "      <td>0</td>\n",
              "      <td>0</td>\n",
              "      <td>0.000000</td>\n",
              "      <td>0</td>\n",
              "      <td>1</td>\n",
              "      <td>-1</td>\n",
              "      <td>2.610048e-07</td>\n",
              "      <td>9.941605e-07</td>\n",
              "      <td>0.000735</td>\n",
              "      <td>0.000746</td>\n",
              "      <td>4.889937e-18</td>\n",
              "      <td>1.185193e-17</td>\n",
              "      <td>1.275252e-19</td>\n",
              "      <td>9.580107e-18</td>\n",
              "      <td>-6.366614e-15</td>\n",
              "      <td>-5.414717e-12</td>\n",
              "      <td>-1.557849e-12</td>\n",
              "      <td>1.678919e-15</td>\n",
              "      <td>-2.381664e-15</td>\n",
              "      <td>9.015358e-17</td>\n",
              "      <td>-7.016038e-15</td>\n",
              "      <td>-2.425777e-12</td>\n",
              "      <td>-2.751562e-14</td>\n",
              "      <td>4.224627e-16</td>\n",
              "      <td>-4.884594e-15</td>\n",
              "      <td>2.183814e-16</td>\n",
              "      <td>-1.511593e-16</td>\n",
              "      <td>-5.408678e-14</td>\n",
              "      <td>-1.722615e-14</td>\n",
              "      <td>1.851404e-17</td>\n",
              "      <td>-2.134787e-17</td>\n",
              "      <td>2.375352e-18</td>\n",
              "      <td>-1.771464e-13</td>\n",
              "      <td>-2.492903e-13</td>\n",
              "      <td>-2.011514e-13</td>\n",
              "      <td>2.231453e-15</td>\n",
              "      <td>-8.399836e-15</td>\n",
              "      <td>1.784258e-16</td>\n",
              "      <td>0.447214</td>\n",
              "      <td>0.707107</td>\n",
              "      <td>1.154320</td>\n",
              "      <td>0.316228</td>\n",
              "      <td>1.601534</td>\n",
              "      <td>1.861427</td>\n",
              "    </tr>\n",
              "    <tr>\n",
              "      <th>99999</th>\n",
              "      <td>0.000000</td>\n",
              "      <td>0.000000</td>\n",
              "      <td>2</td>\n",
              "      <td>14</td>\n",
              "      <td>3</td>\n",
              "      <td>0</td>\n",
              "      <td>0</td>\n",
              "      <td>0.000000</td>\n",
              "      <td>0</td>\n",
              "      <td>1</td>\n",
              "      <td>8</td>\n",
              "      <td>4.099901e-06</td>\n",
              "      <td>3.325969e-07</td>\n",
              "      <td>0.000865</td>\n",
              "      <td>0.000739</td>\n",
              "      <td>4.219739e-16</td>\n",
              "      <td>6.154707e-19</td>\n",
              "      <td>1.650785e-15</td>\n",
              "      <td>3.443111e-18</td>\n",
              "      <td>-1.765107e-13</td>\n",
              "      <td>-6.746465e-13</td>\n",
              "      <td>-2.977005e-11</td>\n",
              "      <td>1.992554e-13</td>\n",
              "      <td>-1.019108e-11</td>\n",
              "      <td>7.778636e-15</td>\n",
              "      <td>-4.192100e-14</td>\n",
              "      <td>-3.609463e-14</td>\n",
              "      <td>-4.217198e-09</td>\n",
              "      <td>1.883815e-15</td>\n",
              "      <td>-4.824778e-15</td>\n",
              "      <td>1.133051e-17</td>\n",
              "      <td>-5.819639e-12</td>\n",
              "      <td>-3.908525e-10</td>\n",
              "      <td>-1.207638e-10</td>\n",
              "      <td>1.590644e-12</td>\n",
              "      <td>-9.957822e-12</td>\n",
              "      <td>3.074526e-14</td>\n",
              "      <td>-1.114423e-13</td>\n",
              "      <td>-1.000177e-12</td>\n",
              "      <td>-9.878663e-09</td>\n",
              "      <td>5.020074e-16</td>\n",
              "      <td>-4.973613e-14</td>\n",
              "      <td>6.412872e-17</td>\n",
              "      <td>0.577350</td>\n",
              "      <td>0.258199</td>\n",
              "      <td>0.835549</td>\n",
              "      <td>0.149071</td>\n",
              "      <td>1.412899</td>\n",
              "      <td>1.093748</td>\n",
              "    </tr>\n",
              "    <tr>\n",
              "      <th>100000</th>\n",
              "      <td>0.000000</td>\n",
              "      <td>0.000000</td>\n",
              "      <td>3</td>\n",
              "      <td>3</td>\n",
              "      <td>4</td>\n",
              "      <td>0</td>\n",
              "      <td>0</td>\n",
              "      <td>0.000000</td>\n",
              "      <td>0</td>\n",
              "      <td>1</td>\n",
              "      <td>10</td>\n",
              "      <td>3.246422e-07</td>\n",
              "      <td>6.030557e-07</td>\n",
              "      <td>0.000743</td>\n",
              "      <td>0.000743</td>\n",
              "      <td>4.384995e-19</td>\n",
              "      <td>6.472236e-16</td>\n",
              "      <td>1.433687e-18</td>\n",
              "      <td>4.502251e-18</td>\n",
              "      <td>-2.985219e-13</td>\n",
              "      <td>-3.054513e-11</td>\n",
              "      <td>-5.236569e-14</td>\n",
              "      <td>2.195873e-15</td>\n",
              "      <td>-1.544731e-15</td>\n",
              "      <td>8.090776e-18</td>\n",
              "      <td>-1.480145e-14</td>\n",
              "      <td>-8.974836e-14</td>\n",
              "      <td>-3.927366e-13</td>\n",
              "      <td>3.977550e-11</td>\n",
              "      <td>-1.488910e-13</td>\n",
              "      <td>1.193102e-14</td>\n",
              "      <td>-3.318146e-12</td>\n",
              "      <td>-4.497666e-11</td>\n",
              "      <td>-1.987145e-12</td>\n",
              "      <td>5.643621e-15</td>\n",
              "      <td>-7.173420e-15</td>\n",
              "      <td>2.670068e-17</td>\n",
              "      <td>-1.184421e-16</td>\n",
              "      <td>-8.937258e-16</td>\n",
              "      <td>-3.877775e-15</td>\n",
              "      <td>3.804241e-13</td>\n",
              "      <td>-1.188658e-15</td>\n",
              "      <td>8.385395e-17</td>\n",
              "      <td>0.500000</td>\n",
              "      <td>0.500000</td>\n",
              "      <td>1.000000</td>\n",
              "      <td>0.250000</td>\n",
              "      <td>1.500000</td>\n",
              "      <td>1.500000</td>\n",
              "    </tr>\n",
              "  </tbody>\n",
              "</table>\n",
              "<p>100001 rows × 49 columns</p>\n",
              "</div>"
            ],
            "text/plain": [
              "        jaccard_followees  cosine_followees  ...  weight_f3  weight_f4\n",
              "0                0.055556          0.129099  ...   1.250000   1.000000\n",
              "1                0.050000          0.095346  ...   0.866025   0.866025\n",
              "2                0.093023          0.195180  ...   0.799122   0.649561\n",
              "3                0.181818          0.316228  ...   0.985599   1.105172\n",
              "4                0.630435          0.773953  ...   0.542363   0.517780\n",
              "...                   ...               ...  ...        ...        ...\n",
              "99996            0.000000          0.000000  ...   1.991564   1.861807\n",
              "99997            0.000000          0.000000  ...   2.414214   2.707107\n",
              "99998            0.000000          0.000000  ...   1.601534   1.861427\n",
              "99999            0.000000          0.000000  ...   1.412899   1.093748\n",
              "100000           0.000000          0.000000  ...   1.500000   1.500000\n",
              "\n",
              "[100001 rows x 49 columns]"
            ]
          },
          "metadata": {
            "tags": []
          },
          "execution_count": 24
        }
      ]
    },
    {
      "cell_type": "code",
      "metadata": {
        "id": "PAMDTRik84XZ",
        "colab_type": "code",
        "outputId": "5d56f173-e822-4091-fafd-a6ff4f89aa92",
        "colab": {
          "base_uri": "https://localhost:8080/",
          "height": 609
        }
      },
      "source": [
        "df_final_test\n"
      ],
      "execution_count": 0,
      "outputs": [
        {
          "output_type": "execute_result",
          "data": {
            "text/html": [
              "<div>\n",
              "<style scoped>\n",
              "    .dataframe tbody tr th:only-of-type {\n",
              "        vertical-align: middle;\n",
              "    }\n",
              "\n",
              "    .dataframe tbody tr th {\n",
              "        vertical-align: top;\n",
              "    }\n",
              "\n",
              "    .dataframe thead th {\n",
              "        text-align: right;\n",
              "    }\n",
              "</style>\n",
              "<table border=\"1\" class=\"dataframe\">\n",
              "  <thead>\n",
              "    <tr style=\"text-align: right;\">\n",
              "      <th></th>\n",
              "      <th>jaccard_followers</th>\n",
              "      <th>cosine_followers</th>\n",
              "      <th>num_followers_s</th>\n",
              "      <th>num_followees_s</th>\n",
              "      <th>num_followees_d</th>\n",
              "      <th>inter_followers</th>\n",
              "      <th>inter_followees</th>\n",
              "      <th>adar_index</th>\n",
              "      <th>follows_back</th>\n",
              "      <th>same_comp</th>\n",
              "      <th>shortest_path</th>\n",
              "      <th>page_rank_s</th>\n",
              "      <th>page_rank_d</th>\n",
              "      <th>katz_s</th>\n",
              "      <th>katz_d</th>\n",
              "      <th>hubs_s</th>\n",
              "      <th>hubs_d</th>\n",
              "      <th>authorities_s</th>\n",
              "      <th>authorities_d</th>\n",
              "      <th>svd_u_s_1</th>\n",
              "      <th>svd_u_s_2</th>\n",
              "      <th>svd_u_s_3</th>\n",
              "      <th>svd_u_s_4</th>\n",
              "      <th>svd_u_s_5</th>\n",
              "      <th>svd_u_s_6</th>\n",
              "      <th>svd_u_d_1</th>\n",
              "      <th>svd_u_d_2</th>\n",
              "      <th>svd_u_d_3</th>\n",
              "      <th>svd_u_d_4</th>\n",
              "      <th>svd_u_d_5</th>\n",
              "      <th>svd_u_d_6</th>\n",
              "      <th>svd_v_s_1</th>\n",
              "      <th>svd_v_s_2</th>\n",
              "      <th>svd_v_s_3</th>\n",
              "      <th>svd_v_s_4</th>\n",
              "      <th>svd_v_s_5</th>\n",
              "      <th>svd_v_s_6</th>\n",
              "      <th>svd_v_d_1</th>\n",
              "      <th>svd_v_d_2</th>\n",
              "      <th>svd_v_d_3</th>\n",
              "      <th>svd_v_d_4</th>\n",
              "      <th>svd_v_d_5</th>\n",
              "      <th>svd_v_d_6</th>\n",
              "      <th>weight_in</th>\n",
              "      <th>weight_out</th>\n",
              "      <th>weight_f1</th>\n",
              "      <th>weight_f2</th>\n",
              "      <th>weight_f3</th>\n",
              "      <th>weight_f4</th>\n",
              "    </tr>\n",
              "  </thead>\n",
              "  <tbody>\n",
              "    <tr>\n",
              "      <th>0</th>\n",
              "      <td>0.000000</td>\n",
              "      <td>0.000000</td>\n",
              "      <td>13</td>\n",
              "      <td>5</td>\n",
              "      <td>17</td>\n",
              "      <td>0</td>\n",
              "      <td>0</td>\n",
              "      <td>0.000000</td>\n",
              "      <td>1</td>\n",
              "      <td>1</td>\n",
              "      <td>6</td>\n",
              "      <td>9.144861e-07</td>\n",
              "      <td>8.427080e-07</td>\n",
              "      <td>0.000762</td>\n",
              "      <td>0.000784</td>\n",
              "      <td>9.525373e-14</td>\n",
              "      <td>1.206031e-12</td>\n",
              "      <td>1.447964e-14</td>\n",
              "      <td>5.146692e-14</td>\n",
              "      <td>-1.001406e-11</td>\n",
              "      <td>-3.816288e-13</td>\n",
              "      <td>-1.307164e-10</td>\n",
              "      <td>3.883292e-12</td>\n",
              "      <td>-1.959645e-13</td>\n",
              "      <td>1.755918e-12</td>\n",
              "      <td>-1.026598e-10</td>\n",
              "      <td>-7.487487e-10</td>\n",
              "      <td>-1.570972e-09</td>\n",
              "      <td>6.040539e-11</td>\n",
              "      <td>-6.465148e-10</td>\n",
              "      <td>2.223210e-11</td>\n",
              "      <td>-1.457268e-12</td>\n",
              "      <td>-7.650448e-12</td>\n",
              "      <td>-1.054045e-10</td>\n",
              "      <td>1.182041e-12</td>\n",
              "      <td>-5.620231e-12</td>\n",
              "      <td>2.696781e-13</td>\n",
              "      <td>-9.553447e-06</td>\n",
              "      <td>-4.693521e-10</td>\n",
              "      <td>-3.976303e-08</td>\n",
              "      <td>2.801191e-11</td>\n",
              "      <td>-3.203336e-10</td>\n",
              "      <td>9.585529e-13</td>\n",
              "      <td>0.267261</td>\n",
              "      <td>0.408248</td>\n",
              "      <td>0.675510</td>\n",
              "      <td>0.109109</td>\n",
              "      <td>0.942771</td>\n",
              "      <td>1.083758</td>\n",
              "    </tr>\n",
              "    <tr>\n",
              "      <th>1</th>\n",
              "      <td>0.038462</td>\n",
              "      <td>0.021517</td>\n",
              "      <td>12</td>\n",
              "      <td>22</td>\n",
              "      <td>8</td>\n",
              "      <td>1</td>\n",
              "      <td>1</td>\n",
              "      <td>0.782011</td>\n",
              "      <td>0</td>\n",
              "      <td>1</td>\n",
              "      <td>2</td>\n",
              "      <td>1.021650e-06</td>\n",
              "      <td>6.323501e-07</td>\n",
              "      <td>0.000790</td>\n",
              "      <td>0.000780</td>\n",
              "      <td>2.254165e-16</td>\n",
              "      <td>2.480514e-16</td>\n",
              "      <td>6.114575e-16</td>\n",
              "      <td>6.421797e-16</td>\n",
              "      <td>-8.983449e-11</td>\n",
              "      <td>-5.342143e-12</td>\n",
              "      <td>-2.869970e-11</td>\n",
              "      <td>2.673146e-13</td>\n",
              "      <td>-9.028555e-14</td>\n",
              "      <td>4.155428e-15</td>\n",
              "      <td>-3.951541e-11</td>\n",
              "      <td>-2.685806e-11</td>\n",
              "      <td>-7.525757e-11</td>\n",
              "      <td>4.521901e-13</td>\n",
              "      <td>-6.049115e-13</td>\n",
              "      <td>4.572523e-15</td>\n",
              "      <td>-7.990214e-12</td>\n",
              "      <td>-6.153878e-12</td>\n",
              "      <td>-2.884670e-11</td>\n",
              "      <td>8.529340e-13</td>\n",
              "      <td>-3.093323e-12</td>\n",
              "      <td>1.138818e-14</td>\n",
              "      <td>-1.732120e-09</td>\n",
              "      <td>-3.320622e-11</td>\n",
              "      <td>-8.383195e-11</td>\n",
              "      <td>1.748130e-12</td>\n",
              "      <td>-3.782205e-12</td>\n",
              "      <td>1.196036e-14</td>\n",
              "      <td>0.277350</td>\n",
              "      <td>0.208514</td>\n",
              "      <td>0.485865</td>\n",
              "      <td>0.057831</td>\n",
              "      <td>0.763215</td>\n",
              "      <td>0.694379</td>\n",
              "    </tr>\n",
              "    <tr>\n",
              "      <th>2</th>\n",
              "      <td>0.285714</td>\n",
              "      <td>0.377964</td>\n",
              "      <td>2</td>\n",
              "      <td>4</td>\n",
              "      <td>3</td>\n",
              "      <td>2</td>\n",
              "      <td>1</td>\n",
              "      <td>1.660964</td>\n",
              "      <td>0</td>\n",
              "      <td>1</td>\n",
              "      <td>2</td>\n",
              "      <td>7.141569e-07</td>\n",
              "      <td>4.200983e-07</td>\n",
              "      <td>0.000758</td>\n",
              "      <td>0.000739</td>\n",
              "      <td>1.047842e-16</td>\n",
              "      <td>1.196666e-20</td>\n",
              "      <td>5.485766e-15</td>\n",
              "      <td>6.035006e-19</td>\n",
              "      <td>-3.490757e-15</td>\n",
              "      <td>-2.125473e-14</td>\n",
              "      <td>-5.876387e-14</td>\n",
              "      <td>7.681325e-14</td>\n",
              "      <td>-1.013709e-16</td>\n",
              "      <td>1.931546e-15</td>\n",
              "      <td>-2.459665e-18</td>\n",
              "      <td>-2.134205e-15</td>\n",
              "      <td>-3.075273e-15</td>\n",
              "      <td>3.135568e-17</td>\n",
              "      <td>-9.190376e-19</td>\n",
              "      <td>1.893997e-19</td>\n",
              "      <td>-1.073600e-13</td>\n",
              "      <td>-5.227496e-12</td>\n",
              "      <td>-1.113929e-09</td>\n",
              "      <td>3.603212e-13</td>\n",
              "      <td>-2.619874e-13</td>\n",
              "      <td>1.021704e-13</td>\n",
              "      <td>-1.072117e-16</td>\n",
              "      <td>-1.069934e-13</td>\n",
              "      <td>-2.105039e-13</td>\n",
              "      <td>1.286697e-15</td>\n",
              "      <td>-7.293527e-17</td>\n",
              "      <td>1.124025e-17</td>\n",
              "      <td>0.577350</td>\n",
              "      <td>0.447214</td>\n",
              "      <td>1.024564</td>\n",
              "      <td>0.258199</td>\n",
              "      <td>1.601914</td>\n",
              "      <td>1.471777</td>\n",
              "    </tr>\n",
              "    <tr>\n",
              "      <th>3</th>\n",
              "      <td>0.133333</td>\n",
              "      <td>0.090351</td>\n",
              "      <td>7</td>\n",
              "      <td>15</td>\n",
              "      <td>9</td>\n",
              "      <td>2</td>\n",
              "      <td>6</td>\n",
              "      <td>4.954546</td>\n",
              "      <td>1</td>\n",
              "      <td>1</td>\n",
              "      <td>2</td>\n",
              "      <td>6.080202e-07</td>\n",
              "      <td>5.483370e-07</td>\n",
              "      <td>0.000771</td>\n",
              "      <td>0.000759</td>\n",
              "      <td>1.247466e-15</td>\n",
              "      <td>4.622659e-16</td>\n",
              "      <td>2.725823e-16</td>\n",
              "      <td>1.398730e-16</td>\n",
              "      <td>-1.315430e-12</td>\n",
              "      <td>-1.154016e-12</td>\n",
              "      <td>-1.660994e-06</td>\n",
              "      <td>5.929858e-13</td>\n",
              "      <td>-2.018848e-11</td>\n",
              "      <td>2.299592e-14</td>\n",
              "      <td>-5.526464e-13</td>\n",
              "      <td>-6.798175e-13</td>\n",
              "      <td>-3.656466e-07</td>\n",
              "      <td>4.774336e-13</td>\n",
              "      <td>-8.433939e-14</td>\n",
              "      <td>8.521430e-15</td>\n",
              "      <td>-3.332769e-12</td>\n",
              "      <td>-2.605704e-13</td>\n",
              "      <td>-8.530031e-07</td>\n",
              "      <td>1.540127e-12</td>\n",
              "      <td>-3.328263e-13</td>\n",
              "      <td>5.076743e-15</td>\n",
              "      <td>-1.702131e-12</td>\n",
              "      <td>-4.700115e-12</td>\n",
              "      <td>-1.444404e-07</td>\n",
              "      <td>1.526351e-12</td>\n",
              "      <td>-3.572279e-13</td>\n",
              "      <td>2.605086e-15</td>\n",
              "      <td>0.353553</td>\n",
              "      <td>0.250000</td>\n",
              "      <td>0.603553</td>\n",
              "      <td>0.088388</td>\n",
              "      <td>0.957107</td>\n",
              "      <td>0.853553</td>\n",
              "    </tr>\n",
              "    <tr>\n",
              "      <th>4</th>\n",
              "      <td>0.054054</td>\n",
              "      <td>0.038222</td>\n",
              "      <td>37</td>\n",
              "      <td>42</td>\n",
              "      <td>9</td>\n",
              "      <td>2</td>\n",
              "      <td>2</td>\n",
              "      <td>1.085795</td>\n",
              "      <td>0</td>\n",
              "      <td>1</td>\n",
              "      <td>2</td>\n",
              "      <td>1.818672e-07</td>\n",
              "      <td>6.005881e-07</td>\n",
              "      <td>0.000740</td>\n",
              "      <td>0.000890</td>\n",
              "      <td>9.021029e-11</td>\n",
              "      <td>8.810126e-12</td>\n",
              "      <td>2.791074e-10</td>\n",
              "      <td>3.306621e-10</td>\n",
              "      <td>-1.774921e-14</td>\n",
              "      <td>-1.312739e-14</td>\n",
              "      <td>-3.506185e-13</td>\n",
              "      <td>1.695189e-09</td>\n",
              "      <td>-2.881047e-13</td>\n",
              "      <td>1.662946e-09</td>\n",
              "      <td>-3.027222e-15</td>\n",
              "      <td>-4.744942e-15</td>\n",
              "      <td>-2.345524e-14</td>\n",
              "      <td>3.834524e-11</td>\n",
              "      <td>-4.859438e-14</td>\n",
              "      <td>1.624068e-10</td>\n",
              "      <td>-5.162105e-16</td>\n",
              "      <td>-4.170597e-16</td>\n",
              "      <td>-1.526708e-14</td>\n",
              "      <td>6.091141e-11</td>\n",
              "      <td>-6.397991e-15</td>\n",
              "      <td>5.198275e-09</td>\n",
              "      <td>-7.512200e-15</td>\n",
              "      <td>-9.971044e-15</td>\n",
              "      <td>-2.103872e-13</td>\n",
              "      <td>7.362945e-10</td>\n",
              "      <td>-2.892712e-13</td>\n",
              "      <td>6.158462e-09</td>\n",
              "      <td>0.162221</td>\n",
              "      <td>0.152499</td>\n",
              "      <td>0.314720</td>\n",
              "      <td>0.024739</td>\n",
              "      <td>0.476941</td>\n",
              "      <td>0.467219</td>\n",
              "    </tr>\n",
              "    <tr>\n",
              "      <th>...</th>\n",
              "      <td>...</td>\n",
              "      <td>...</td>\n",
              "      <td>...</td>\n",
              "      <td>...</td>\n",
              "      <td>...</td>\n",
              "      <td>...</td>\n",
              "      <td>...</td>\n",
              "      <td>...</td>\n",
              "      <td>...</td>\n",
              "      <td>...</td>\n",
              "      <td>...</td>\n",
              "      <td>...</td>\n",
              "      <td>...</td>\n",
              "      <td>...</td>\n",
              "      <td>...</td>\n",
              "      <td>...</td>\n",
              "      <td>...</td>\n",
              "      <td>...</td>\n",
              "      <td>...</td>\n",
              "      <td>...</td>\n",
              "      <td>...</td>\n",
              "      <td>...</td>\n",
              "      <td>...</td>\n",
              "      <td>...</td>\n",
              "      <td>...</td>\n",
              "      <td>...</td>\n",
              "      <td>...</td>\n",
              "      <td>...</td>\n",
              "      <td>...</td>\n",
              "      <td>...</td>\n",
              "      <td>...</td>\n",
              "      <td>...</td>\n",
              "      <td>...</td>\n",
              "      <td>...</td>\n",
              "      <td>...</td>\n",
              "      <td>...</td>\n",
              "      <td>...</td>\n",
              "      <td>...</td>\n",
              "      <td>...</td>\n",
              "      <td>...</td>\n",
              "      <td>...</td>\n",
              "      <td>...</td>\n",
              "      <td>...</td>\n",
              "      <td>...</td>\n",
              "      <td>...</td>\n",
              "      <td>...</td>\n",
              "      <td>...</td>\n",
              "      <td>...</td>\n",
              "      <td>...</td>\n",
              "    </tr>\n",
              "    <tr>\n",
              "      <th>49997</th>\n",
              "      <td>0.000000</td>\n",
              "      <td>0.000000</td>\n",
              "      <td>1</td>\n",
              "      <td>1</td>\n",
              "      <td>4</td>\n",
              "      <td>0</td>\n",
              "      <td>0</td>\n",
              "      <td>0.000000</td>\n",
              "      <td>0</td>\n",
              "      <td>1</td>\n",
              "      <td>-1</td>\n",
              "      <td>1.655488e-07</td>\n",
              "      <td>6.428291e-07</td>\n",
              "      <td>0.000731</td>\n",
              "      <td>0.000735</td>\n",
              "      <td>4.202736e-18</td>\n",
              "      <td>4.935879e-13</td>\n",
              "      <td>0.000000e+00</td>\n",
              "      <td>0.000000e+00</td>\n",
              "      <td>-6.379764e-18</td>\n",
              "      <td>-7.213638e-16</td>\n",
              "      <td>-4.343563e-15</td>\n",
              "      <td>6.527794e-16</td>\n",
              "      <td>-5.300004e-17</td>\n",
              "      <td>7.749172e-17</td>\n",
              "      <td>-3.033072e-11</td>\n",
              "      <td>-4.734836e-12</td>\n",
              "      <td>-5.227749e-10</td>\n",
              "      <td>6.086490e-13</td>\n",
              "      <td>-3.225870e-12</td>\n",
              "      <td>9.098852e-12</td>\n",
              "      <td>0.000000e+00</td>\n",
              "      <td>0.000000e+00</td>\n",
              "      <td>0.000000e+00</td>\n",
              "      <td>0.000000e+00</td>\n",
              "      <td>0.000000e+00</td>\n",
              "      <td>0.000000e+00</td>\n",
              "      <td>-1.284012e-22</td>\n",
              "      <td>-6.634530e-22</td>\n",
              "      <td>6.382013e-22</td>\n",
              "      <td>-4.220529e-22</td>\n",
              "      <td>-1.175908e-21</td>\n",
              "      <td>2.874428e-23</td>\n",
              "      <td>0.707107</td>\n",
              "      <td>0.707107</td>\n",
              "      <td>1.414214</td>\n",
              "      <td>0.500000</td>\n",
              "      <td>2.121320</td>\n",
              "      <td>2.121320</td>\n",
              "    </tr>\n",
              "    <tr>\n",
              "      <th>49998</th>\n",
              "      <td>0.000000</td>\n",
              "      <td>0.000000</td>\n",
              "      <td>7</td>\n",
              "      <td>0</td>\n",
              "      <td>5</td>\n",
              "      <td>0</td>\n",
              "      <td>0</td>\n",
              "      <td>0.000000</td>\n",
              "      <td>0</td>\n",
              "      <td>1</td>\n",
              "      <td>-1</td>\n",
              "      <td>1.720295e-06</td>\n",
              "      <td>3.032799e-07</td>\n",
              "      <td>0.000842</td>\n",
              "      <td>0.000761</td>\n",
              "      <td>0.000000e+00</td>\n",
              "      <td>3.478873e-16</td>\n",
              "      <td>1.211140e-10</td>\n",
              "      <td>4.951449e-15</td>\n",
              "      <td>2.333157e-21</td>\n",
              "      <td>1.700354e-20</td>\n",
              "      <td>-1.241002e-20</td>\n",
              "      <td>5.767397e-21</td>\n",
              "      <td>2.002890e-20</td>\n",
              "      <td>-2.158270e-21</td>\n",
              "      <td>-2.646764e-13</td>\n",
              "      <td>-2.549878e-12</td>\n",
              "      <td>-9.390830e-08</td>\n",
              "      <td>7.160293e-15</td>\n",
              "      <td>-2.462989e-14</td>\n",
              "      <td>6.412805e-15</td>\n",
              "      <td>-3.003416e-12</td>\n",
              "      <td>-1.042749e-09</td>\n",
              "      <td>-1.938187e-10</td>\n",
              "      <td>2.859412e-07</td>\n",
              "      <td>-1.229578e-09</td>\n",
              "      <td>2.255704e-09</td>\n",
              "      <td>-1.548129e-12</td>\n",
              "      <td>-6.592810e-13</td>\n",
              "      <td>-4.015741e-07</td>\n",
              "      <td>4.091633e-14</td>\n",
              "      <td>-9.997568e-14</td>\n",
              "      <td>9.221897e-14</td>\n",
              "      <td>0.353553</td>\n",
              "      <td>1.000000</td>\n",
              "      <td>1.353553</td>\n",
              "      <td>0.353553</td>\n",
              "      <td>1.707107</td>\n",
              "      <td>2.353553</td>\n",
              "    </tr>\n",
              "    <tr>\n",
              "      <th>49999</th>\n",
              "      <td>0.000000</td>\n",
              "      <td>0.000000</td>\n",
              "      <td>1</td>\n",
              "      <td>9</td>\n",
              "      <td>1</td>\n",
              "      <td>0</td>\n",
              "      <td>0</td>\n",
              "      <td>0.000000</td>\n",
              "      <td>0</td>\n",
              "      <td>1</td>\n",
              "      <td>9</td>\n",
              "      <td>4.017440e-07</td>\n",
              "      <td>3.246422e-07</td>\n",
              "      <td>0.000751</td>\n",
              "      <td>0.000735</td>\n",
              "      <td>1.203266e-16</td>\n",
              "      <td>4.035842e-20</td>\n",
              "      <td>1.886743e-16</td>\n",
              "      <td>4.484773e-21</td>\n",
              "      <td>-7.760866e-14</td>\n",
              "      <td>-3.965885e-11</td>\n",
              "      <td>-1.878508e-11</td>\n",
              "      <td>3.986136e-14</td>\n",
              "      <td>-8.926313e-15</td>\n",
              "      <td>2.218057e-15</td>\n",
              "      <td>-1.019878e-15</td>\n",
              "      <td>-6.891537e-15</td>\n",
              "      <td>-4.307584e-16</td>\n",
              "      <td>6.507271e-16</td>\n",
              "      <td>-1.561133e-16</td>\n",
              "      <td>7.355703e-19</td>\n",
              "      <td>-3.122718e-13</td>\n",
              "      <td>-2.552555e-11</td>\n",
              "      <td>-1.342332e-11</td>\n",
              "      <td>1.182100e-14</td>\n",
              "      <td>-4.896464e-15</td>\n",
              "      <td>3.513994e-15</td>\n",
              "      <td>-8.343324e-17</td>\n",
              "      <td>-9.362555e-17</td>\n",
              "      <td>-9.204017e-16</td>\n",
              "      <td>6.575029e-14</td>\n",
              "      <td>-1.767062e-14</td>\n",
              "      <td>8.325233e-20</td>\n",
              "      <td>0.707107</td>\n",
              "      <td>0.316228</td>\n",
              "      <td>1.023335</td>\n",
              "      <td>0.223607</td>\n",
              "      <td>1.730441</td>\n",
              "      <td>1.339562</td>\n",
              "    </tr>\n",
              "    <tr>\n",
              "      <th>50000</th>\n",
              "      <td>0.000000</td>\n",
              "      <td>0.000000</td>\n",
              "      <td>1</td>\n",
              "      <td>2</td>\n",
              "      <td>1</td>\n",
              "      <td>0</td>\n",
              "      <td>0</td>\n",
              "      <td>0.000000</td>\n",
              "      <td>0</td>\n",
              "      <td>1</td>\n",
              "      <td>-1</td>\n",
              "      <td>4.041889e-07</td>\n",
              "      <td>2.848688e-07</td>\n",
              "      <td>0.000735</td>\n",
              "      <td>0.000735</td>\n",
              "      <td>0.000000e+00</td>\n",
              "      <td>1.627506e-23</td>\n",
              "      <td>0.000000e+00</td>\n",
              "      <td>3.640096e-23</td>\n",
              "      <td>-1.440901e-20</td>\n",
              "      <td>-5.687846e-20</td>\n",
              "      <td>-4.806876e-21</td>\n",
              "      <td>2.609679e-20</td>\n",
              "      <td>1.062081e-19</td>\n",
              "      <td>-2.101566e-20</td>\n",
              "      <td>-4.838339e-19</td>\n",
              "      <td>-4.517636e-18</td>\n",
              "      <td>-2.935922e-17</td>\n",
              "      <td>6.381530e-20</td>\n",
              "      <td>-3.144831e-19</td>\n",
              "      <td>1.984771e-20</td>\n",
              "      <td>-1.920077e-22</td>\n",
              "      <td>-5.402203e-22</td>\n",
              "      <td>-1.656797e-23</td>\n",
              "      <td>2.390221e-22</td>\n",
              "      <td>7.800724e-22</td>\n",
              "      <td>-1.423160e-22</td>\n",
              "      <td>-8.088199e-20</td>\n",
              "      <td>-6.373163e-19</td>\n",
              "      <td>-1.019853e-16</td>\n",
              "      <td>2.046469e-19</td>\n",
              "      <td>-4.823397e-19</td>\n",
              "      <td>7.864870e-22</td>\n",
              "      <td>0.707107</td>\n",
              "      <td>0.577350</td>\n",
              "      <td>1.284457</td>\n",
              "      <td>0.408248</td>\n",
              "      <td>1.991564</td>\n",
              "      <td>1.861807</td>\n",
              "    </tr>\n",
              "    <tr>\n",
              "      <th>50001</th>\n",
              "      <td>0.000000</td>\n",
              "      <td>0.000000</td>\n",
              "      <td>0</td>\n",
              "      <td>1</td>\n",
              "      <td>1</td>\n",
              "      <td>0</td>\n",
              "      <td>0</td>\n",
              "      <td>0.000000</td>\n",
              "      <td>0</td>\n",
              "      <td>1</td>\n",
              "      <td>-1</td>\n",
              "      <td>2.252088e-07</td>\n",
              "      <td>1.655488e-07</td>\n",
              "      <td>0.000735</td>\n",
              "      <td>0.000731</td>\n",
              "      <td>6.805183e-17</td>\n",
              "      <td>1.008407e-17</td>\n",
              "      <td>2.131087e-19</td>\n",
              "      <td>0.000000e+00</td>\n",
              "      <td>-7.988383e-15</td>\n",
              "      <td>-3.427867e-15</td>\n",
              "      <td>-1.028353e-14</td>\n",
              "      <td>1.020809e-15</td>\n",
              "      <td>-1.724042e-15</td>\n",
              "      <td>1.254511e-15</td>\n",
              "      <td>-1.014721e-15</td>\n",
              "      <td>-2.678592e-15</td>\n",
              "      <td>-9.770344e-13</td>\n",
              "      <td>3.553347e-15</td>\n",
              "      <td>-2.166155e-17</td>\n",
              "      <td>1.858853e-16</td>\n",
              "      <td>-1.957182e-16</td>\n",
              "      <td>-1.046359e-16</td>\n",
              "      <td>-8.367776e-16</td>\n",
              "      <td>3.326803e-17</td>\n",
              "      <td>-2.045474e-15</td>\n",
              "      <td>3.969810e-18</td>\n",
              "      <td>0.000000e+00</td>\n",
              "      <td>0.000000e+00</td>\n",
              "      <td>0.000000e+00</td>\n",
              "      <td>0.000000e+00</td>\n",
              "      <td>0.000000e+00</td>\n",
              "      <td>0.000000e+00</td>\n",
              "      <td>1.000000</td>\n",
              "      <td>0.707107</td>\n",
              "      <td>1.707107</td>\n",
              "      <td>0.707107</td>\n",
              "      <td>2.707107</td>\n",
              "      <td>2.414214</td>\n",
              "    </tr>\n",
              "  </tbody>\n",
              "</table>\n",
              "<p>50002 rows × 49 columns</p>\n",
              "</div>"
            ],
            "text/plain": [
              "       jaccard_followers  cosine_followers  ...  weight_f3  weight_f4\n",
              "0               0.000000          0.000000  ...   0.942771   1.083758\n",
              "1               0.038462          0.021517  ...   0.763215   0.694379\n",
              "2               0.285714          0.377964  ...   1.601914   1.471777\n",
              "3               0.133333          0.090351  ...   0.957107   0.853553\n",
              "4               0.054054          0.038222  ...   0.476941   0.467219\n",
              "...                  ...               ...  ...        ...        ...\n",
              "49997           0.000000          0.000000  ...   2.121320   2.121320\n",
              "49998           0.000000          0.000000  ...   1.707107   2.353553\n",
              "49999           0.000000          0.000000  ...   1.730441   1.339562\n",
              "50000           0.000000          0.000000  ...   1.991564   1.861807\n",
              "50001           0.000000          0.000000  ...   2.707107   2.414214\n",
              "\n",
              "[50002 rows x 49 columns]"
            ]
          },
          "metadata": {
            "tags": []
          },
          "execution_count": 25
        }
      ]
    },
    {
      "cell_type": "markdown",
      "metadata": {
        "id": "o0yxsWB9aUA-",
        "colab_type": "text"
      },
      "source": [
        "#Modelling"
      ]
    },
    {
      "cell_type": "markdown",
      "metadata": {
        "id": "HB24xgEz6X-9",
        "colab_type": "text"
      },
      "source": [
        "##build confusion matrix"
      ]
    },
    {
      "cell_type": "code",
      "metadata": {
        "id": "ibTP1qIaaYly",
        "colab_type": "code",
        "colab": {}
      },
      "source": [
        "def plot_confusion_matrix(test_y, predict_y):\n",
        "    C = confusion_matrix(test_y, predict_y)\n",
        "    \n",
        "    A =(((C.T)/(C.sum(axis=1))).T)\n",
        "    \n",
        "    B =(C/C.sum(axis=0))\n",
        "    plt.figure(figsize=(20,4))\n",
        "    \n",
        "    labels = [0,1]\n",
        "    # representing A in heatmap format\n",
        "    cmap=sns.light_palette(\"blue\")\n",
        "    plt.subplot(1, 3, 1)\n",
        "    sns.heatmap(C, annot=True, cmap=cmap, fmt=\".3f\", xticklabels=labels, yticklabels=labels)\n",
        "    plt.xlabel('Predicted Class')\n",
        "    plt.ylabel('Original Class')\n",
        "    plt.title(\"Confusion matrix\")\n",
        "    \n",
        "    plt.subplot(1, 3, 2)\n",
        "    sns.heatmap(B, annot=True, cmap=cmap, fmt=\".3f\", xticklabels=labels, yticklabels=labels)\n",
        "    plt.xlabel('Predicted Class')\n",
        "    plt.ylabel('Original Class')\n",
        "    plt.title(\"Precision matrix\")\n",
        "    \n",
        "    plt.subplot(1, 3, 3)\n",
        "    # representing B in heatmap format\n",
        "    sns.heatmap(A, annot=True, cmap=cmap, fmt=\".3f\", xticklabels=labels, yticklabels=labels)\n",
        "    plt.xlabel('Predicted Class')\n",
        "    plt.ylabel('Original Class')\n",
        "    plt.title(\"Recall matrix\")\n",
        "    \n",
        "    plt.show()"
      ],
      "execution_count": 0,
      "outputs": []
    },
    {
      "cell_type": "markdown",
      "metadata": {
        "id": "E8_9ocva6cjk",
        "colab_type": "text"
      },
      "source": [
        "##Use Random Forest Classifier"
      ]
    },
    {
      "cell_type": "markdown",
      "metadata": {
        "id": "XOQA6YN17NGU",
        "colab_type": "text"
      },
      "source": [
        "###set paramters"
      ]
    },
    {
      "cell_type": "code",
      "metadata": {
        "id": "eBcoqAWGajeJ",
        "colab_type": "code",
        "outputId": "6248e406-16b3-43da-cb91-2321670e6f60",
        "colab": {
          "base_uri": "https://localhost:8080/",
          "height": 357
        }
      },
      "source": [
        "param_dist = {\"n_estimators\":sp_randint(105,125),\n",
        "              \"max_depth\": sp_randint(10,15),\n",
        "              \"min_samples_split\": sp_randint(110,190),\n",
        "              \"min_samples_leaf\": sp_randint(25,65)}\n",
        "\n",
        "clf = RandomForestClassifier(random_state=25,n_jobs=-1)\n",
        "\n",
        "rf_random = RandomizedSearchCV(clf, param_distributions=param_dist,\n",
        "                                   n_iter=5,cv=10,scoring='f1',random_state=25)\n",
        "\n",
        "rf_random.fit(df_final_train,y_train)\n"
      ],
      "execution_count": 0,
      "outputs": [
        {
          "output_type": "execute_result",
          "data": {
            "text/plain": [
              "RandomizedSearchCV(cv=10, error_score=nan,\n",
              "                   estimator=RandomForestClassifier(bootstrap=True,\n",
              "                                                    ccp_alpha=0.0,\n",
              "                                                    class_weight=None,\n",
              "                                                    criterion='gini',\n",
              "                                                    max_depth=None,\n",
              "                                                    max_features='auto',\n",
              "                                                    max_leaf_nodes=None,\n",
              "                                                    max_samples=None,\n",
              "                                                    min_impurity_decrease=0.0,\n",
              "                                                    min_impurity_split=None,\n",
              "                                                    min_samples_leaf=1,\n",
              "                                                    min_samples_split=2,\n",
              "                                                    min_weight_fraction_leaf=0.0,\n",
              "                                                    n_estimators=100, n_job...\n",
              "                                        'min_samples_leaf': <scipy.stats._distn_infrastructure.rv_frozen object at 0x7fc0d497c240>,\n",
              "                                        'min_samples_split': <scipy.stats._distn_infrastructure.rv_frozen object at 0x7fc0d59f75f8>,\n",
              "                                        'n_estimators': <scipy.stats._distn_infrastructure.rv_frozen object at 0x7fc0d394efd0>},\n",
              "                   pre_dispatch='2*n_jobs', random_state=25, refit=True,\n",
              "                   return_train_score=False, scoring='f1', verbose=0)"
            ]
          },
          "metadata": {
            "tags": []
          },
          "execution_count": 28
        }
      ]
    },
    {
      "cell_type": "markdown",
      "metadata": {
        "id": "_EXWLX4U7RFD",
        "colab_type": "text"
      },
      "source": [
        "\n",
        "\n",
        "\n",
        "\n",
        "###Fit the model on the dataset"
      ]
    },
    {
      "cell_type": "code",
      "metadata": {
        "id": "NxX3hvfM6ptF",
        "colab_type": "code",
        "outputId": "416262c0-ec5a-4fdc-a7c9-6a6f20d368bf",
        "colab": {
          "base_uri": "https://localhost:8080/",
          "height": 51
        }
      },
      "source": [
        "clf = RandomForestClassifier(bootstrap=True, class_weight=None, criterion='gini',\n",
        "            max_depth=14, max_features='auto', max_leaf_nodes=None,\n",
        "            min_impurity_decrease=0.0, min_impurity_split=None,\n",
        "            min_samples_leaf=28, min_samples_split=111,\n",
        "            min_weight_fraction_leaf=0.0, n_estimators=121, n_jobs=-1,\n",
        "            oob_score=False, random_state=25, verbose=0, warm_start=False)\n",
        "\n",
        "clf.fit(df_final_train,y_train)\n",
        "y_train_pred = clf.predict(df_final_train)\n",
        "y_test_pred = clf.predict(df_final_test)\n",
        "\n",
        "print('Train f1 score',f1_score(y_train,y_train_pred))\n",
        "print('Test f1 score',f1_score(y_test,y_test_pred))"
      ],
      "execution_count": 0,
      "outputs": [
        {
          "output_type": "stream",
          "text": [
            "Train f1 score 0.9478495783386234\n",
            "Test f1 score 0.9196344549237753\n"
          ],
          "name": "stdout"
        }
      ]
    },
    {
      "cell_type": "markdown",
      "metadata": {
        "id": "oI80wFiXl1PB",
        "colab_type": "text"
      },
      "source": [
        "###plot confusion matrix\n"
      ]
    },
    {
      "cell_type": "code",
      "metadata": {
        "id": "UJstrzhlArPo",
        "colab_type": "code",
        "outputId": "24366d76-c708-444d-dea4-016ba828e16a",
        "colab": {
          "base_uri": "https://localhost:8080/",
          "height": 607
        }
      },
      "source": [
        "print('Train confusion_matrix')\n",
        "plot_confusion_matrix(y_train,y_train_pred)\n",
        "\n",
        "print('Test confusion_matrix')\n",
        "plot_confusion_matrix(y_test,y_test_pred)"
      ],
      "execution_count": 0,
      "outputs": [
        {
          "output_type": "stream",
          "text": [
            "Train confusion_matrix\n"
          ],
          "name": "stdout"
        },
        {
          "output_type": "display_data",
          "data": {
            "image/png": "[encoded data removed]",
            "text/plain": [
              "<Figure size 1440x288 with 6 Axes>"
            ]
          },
          "metadata": {
            "tags": []
          }
        },
        {
          "output_type": "stream",
          "text": [
            "Test confusion_matrix\n"
          ],
          "name": "stdout"
        },
        {
          "output_type": "display_data",
          "data": {
            "image/png": "[encoded data removed]",
            "text/plain": [
              "<Figure size 1440x288 with 6 Axes>"
            ]
          },
          "metadata": {
            "tags": []
          }
        }
      ]
    },
    {
      "cell_type": "markdown",
      "metadata": {
        "id": "RLkfhQ13l-NE",
        "colab_type": "text"
      },
      "source": [
        "###plot roc_auc curve\n"
      ]
    },
    {
      "cell_type": "code",
      "metadata": {
        "id": "sZaZk_Mnl9Vh",
        "colab_type": "code",
        "outputId": "5449eac8-5476-4c52-d126-4c4efd57f94e",
        "colab": {
          "base_uri": "https://localhost:8080/",
          "height": 295
        }
      },
      "source": [
        "fpr,tpr,ths = roc_curve(y_test,y_test_pred)\n",
        "auc_sc = auc(fpr, tpr)\n",
        "plt.plot(fpr, tpr, color='navy',label='ROC curve (area = %0.2f)' % auc_sc)\n",
        "plt.xlabel('False Positive Rate')\n",
        "plt.ylabel('True Positive Rate')\n",
        "plt.title('Receiver operating characteristic with test data')\n",
        "plt.legend()\n",
        "plt.show()"
      ],
      "execution_count": 0,
      "outputs": [
        {
          "output_type": "display_data",
          "data": {
            "image/png": "[encoded data removed]",
            "text/plain": [
              "<Figure size 432x288 with 1 Axes>"
            ]
          },
          "metadata": {
            "tags": []
          }
        }
      ]
    },
    {
      "cell_type": "code",
      "metadata": {
        "id": "m7DlneJJmFlJ",
        "colab_type": "code",
        "colab": {}
      },
      "source": [
        ""
      ],
      "execution_count": 0,
      "outputs": []
    }
  ]
}